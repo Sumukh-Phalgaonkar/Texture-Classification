{
  "nbformat": 4,
  "nbformat_minor": 0,
  "metadata": {
    "colab": {
      "name": "Copy of ORB_texture_Classification_KNN.ipynb",
      "provenance": [],
      "collapsed_sections": []
    },
    "kernelspec": {
      "name": "python3",
      "display_name": "Python 3"
    },
    "language_info": {
      "name": "python"
    },
    "accelerator": "GPU"
  },
  "cells": [
    {
      "cell_type": "code",
      "metadata": {
        "id": "YGF2XGyNOwVt",
        "colab": {
          "base_uri": "https://localhost:8080/"
        },
        "outputId": "13f6cabc-fc73-4fa4-e1b8-a18834f02a3f"
      },
      "source": [
        "from google.colab import drive\n",
        "drive.mount('/content/drive')"
      ],
      "execution_count": null,
      "outputs": [
        {
          "output_type": "stream",
          "text": [
            "Drive already mounted at /content/drive; to attempt to forcibly remount, call drive.mount(\"/content/drive\", force_remount=True).\n"
          ],
          "name": "stdout"
        }
      ]
    },
    {
      "cell_type": "markdown",
      "metadata": {
        "id": "53ncGh7OQdH8"
      },
      "source": [
        "#Importing Libraries"
      ]
    },
    {
      "cell_type": "code",
      "metadata": {
        "id": "vWWLL71ePdfg"
      },
      "source": [
        "import numpy as np\n",
        "import pandas as pd\n",
        "import matplotlib.pyplot as plt\n",
        "import cv2 as cv\n",
        "import os\n",
        "\n",
        "%matplotlib inline"
      ],
      "execution_count": null,
      "outputs": []
    },
    {
      "cell_type": "markdown",
      "metadata": {
        "id": "rijH8XTNQtCL"
      },
      "source": [
        "#Parsing and reading the dataset"
      ]
    },
    {
      "cell_type": "code",
      "metadata": {
        "colab": {
          "base_uri": "https://localhost:8080/"
        },
        "id": "HxePPb5BSmTh",
        "outputId": "e647b42e-85c8-4209-e9fa-f170fb438061"
      },
      "source": [
        "DataDir = '/content/drive/MyDrive/PS 1/Datasets/KTH-TIPS-2B/KTH-TIPS2-b'\n",
        "Categories = ['aluminium_foil', 'brown_bread', 'corduroy', 'cork', 'cotton', 'cracker', 'lettuce_leaf', 'linen', 'white_bread', 'wood','wool']\n",
        "Sample = 'sample_c'\n",
        "n_des = []\n",
        "images = []\n",
        "y = np.array([])\n",
        "X =np.zeros(32)\n",
        "Y = np.array([])\n",
        "X.reshape(1,32)"
      ],
      "execution_count": null,
      "outputs": [
        {
          "output_type": "execute_result",
          "data": {
            "text/plain": [
              "array([[0., 0., 0., 0., 0., 0., 0., 0., 0., 0., 0., 0., 0., 0., 0., 0.,\n",
              "        0., 0., 0., 0., 0., 0., 0., 0., 0., 0., 0., 0., 0., 0., 0., 0.]])"
            ]
          },
          "metadata": {
            "tags": []
          },
          "execution_count": 76
        }
      ]
    },
    {
      "cell_type": "code",
      "metadata": {
        "id": "nKNwUM8LTZaw"
      },
      "source": [
        "c = -1\n",
        "catCount = np.zeros(11)\n",
        "for category in Categories:\n",
        "  path = os.path.join(DataDir,category)\n",
        "  path = os.path.join(path,Sample)\n",
        "  c = c +1\n",
        "  class_num = Categories.index(category)\n",
        "  for imgname in os.listdir(path):\n",
        "    img = cv.imread(os.path.join(path,imgname))\n",
        "    orb = cv.ORB_create(nfeatures = 1000)\n",
        "    kp = orb.detect(img,None)\n",
        "    kp, des = orb.compute(img, kp)\n",
        "    des = np.array(des)\n",
        "    if len(kp) > 0:\n",
        "      X = np.vstack((X,des))\n",
        "      images.append(des)\n",
        "      y = np.append(y,[class_num])\n",
        "      n_des.append(len(kp))\n",
        "      for i in range(0,len(kp)):\n",
        "        Y = np.append(Y,[class_num])\n",
        "        catCount[c] = catCount[c] + 1\n",
        "        \n",
        "  \n"
      ],
      "execution_count": null,
      "outputs": []
    },
    {
      "cell_type": "markdown",
      "metadata": {
        "id": "PvPbTV2TQ6q2"
      },
      "source": [
        "## Cummulative sum of number of Descriptos for each image"
      ]
    },
    {
      "cell_type": "code",
      "metadata": {
        "colab": {
          "base_uri": "https://localhost:8080/"
        },
        "id": "65jesWK82VrO",
        "outputId": "db786af5-7e0b-43f6-af41-eb8a6fbc2624"
      },
      "source": [
        "sn_des = np.zeros(len(n_des) + 1)\n",
        "for i in range(len(n_des)):\n",
        "  sn_des[i+1] = sn_des[i] + n_des[i]\n",
        "\n",
        "print(sn_des)"
      ],
      "execution_count": null,
      "outputs": [
        {
          "output_type": "stream",
          "text": [
            "[     0.    752.   1332. ... 625669. 626444. 627220.]\n"
          ],
          "name": "stdout"
        }
      ]
    },
    {
      "cell_type": "code",
      "metadata": {
        "id": "QRuNgD6_B0i7"
      },
      "source": [
        "#images = []\n",
        "\n",
        "#for i in range(len(sn_des)):\n",
        "#  if i == 1188:\n",
        "#    break\n",
        "#  images.append(X[int(sn_des[i]):int(sn_des[i+1])])\n",
        "     "
      ],
      "execution_count": null,
      "outputs": []
    },
    {
      "cell_type": "code",
      "metadata": {
        "colab": {
          "base_uri": "https://localhost:8080/"
        },
        "id": "4SCE9EG3EAUO",
        "outputId": "b5565e7b-a7ab-4f27-c179-8729901589ce"
      },
      "source": [
        "images = np.array(images)\n",
        "print(images.shape)\n",
        "print(images[0].shape)\n"
      ],
      "execution_count": null,
      "outputs": [
        {
          "output_type": "stream",
          "text": [
            "(1103,)\n",
            "(752, 32)\n"
          ],
          "name": "stdout"
        },
        {
          "output_type": "stream",
          "text": [
            "/usr/local/lib/python3.7/dist-packages/ipykernel_launcher.py:1: VisibleDeprecationWarning: Creating an ndarray from ragged nested sequences (which is a list-or-tuple of lists-or-tuples-or ndarrays with different lengths or shapes) is deprecated. If you meant to do this, you must specify 'dtype=object' when creating the ndarray\n",
            "  \"\"\"Entry point for launching an IPython kernel.\n"
          ],
          "name": "stderr"
        }
      ]
    },
    {
      "cell_type": "code",
      "metadata": {
        "id": "-Ua6u4FgVno-"
      },
      "source": [
        "#images = []\n",
        "\n",
        "#for category in Categories:\n",
        "#  path = os.path.join(DataDir,category)\n",
        "#  path = os.path.join(path,Sample)\n",
        "#  #c = c +1\n",
        "#  #class_num = Categories.index(category)\n",
        "#  for imgname in os.listdir(path):\n",
        " #   img = cv.imread(os.path.join(path,imgname))\n",
        "  #  orb = cv.ORB_create(nfeatures = 500)\n",
        "   # kp = orb.detect(img,None)\n",
        "    #kp, des = orb.compute(img, kp)\n",
        "    ##n_des.append(len(kp))\n",
        "   # #y = np.append(y,[class_num])\n",
        "#    des = np.array(des)\n",
        " #   if len(kp) > 0:\n",
        "  #    #X = np.vstack((X,des))\n",
        "   #   images.append(des)\n",
        "    #  #for i in range(0,len(kp)):\n",
        "     #   #Y = np.append(Y,[class_num])\n",
        "      #  #atCount[c] = catCount[c] + 1"
      ],
      "execution_count": null,
      "outputs": []
    },
    {
      "cell_type": "code",
      "metadata": {
        "colab": {
          "base_uri": "https://localhost:8080/"
        },
        "id": "NQ5E0VUHWMuq",
        "outputId": "01733d89-8c95-482d-fe59-953e1fb0d648"
      },
      "source": [
        "print(X)\n",
        "print((X.shape))\n",
        "print(Y)\n",
        "print(len(Y))\n",
        "print(len(n_des))\n",
        "print(n_des)\n",
        "print(len(y))\n",
        "print(y)"
      ],
      "execution_count": null,
      "outputs": [
        {
          "output_type": "stream",
          "text": [
            "[[  0.   0.   0. ...   0.   0.   0.]\n",
            " [248. 198. 213. ... 163.   4.  33.]\n",
            " [221. 221.  31. ... 115. 233.  34.]\n",
            " ...\n",
            " [ 33.  59. 175. ... 235. 118. 250.]\n",
            " [172. 153. 120. ... 170.  68. 114.]\n",
            " [163. 240.  46. ...  13.  21. 239.]]\n",
            "(627221, 32)\n",
            "[ 0.  0.  0. ... 10. 10. 10.]\n",
            "627220\n",
            "1103\n",
            "[752, 580, 568, 644, 741, 761, 716, 709, 746, 641, 654, 741, 733, 580, 661, 672, 749, 709, 759, 581, 757, 609, 701, 693, 707, 641, 746, 729, 712, 739, 703, 735, 627, 665, 734, 750, 543, 675, 709, 751, 748, 748, 773, 585, 674, 771, 727, 709, 688, 750, 705, 710, 762, 759, 703, 760, 705, 755, 739, 501, 695, 741, 711, 704, 724, 663, 706, 751, 746, 766, 715, 759, 697, 685, 658, 717, 749, 680, 731, 688, 711, 729, 698, 660, 667, 544, 734, 679, 740, 719, 720, 681, 787, 648, 738, 546, 706, 751, 753, 759, 690, 724, 675, 678, 744, 747, 780, 703, 611, 719, 677, 606, 712, 667, 660, 571, 667, 743, 663, 675, 723, 718, 704, 656, 658, 699, 711, 729, 610, 740, 681, 678, 671, 741, 696, 698, 638, 616, 688, 755, 689, 696, 622, 627, 682, 687, 619, 674, 618, 727, 679, 738, 578, 754, 674, 644, 757, 665, 686, 698, 746, 610, 746, 738, 684, 628, 727, 629, 669, 662, 710, 671, 669, 690, 743, 642, 687, 712, 683, 667, 631, 723, 690, 578, 601, 670, 721, 624, 709, 677, 646, 664, 614, 718, 585, 757, 758, 714, 661, 675, 739, 662, 721, 687, 710, 700, 611, 663, 737, 687, 663, 741, 726, 670, 660, 753, 409, 641, 66, 13, 648, 17, 14, 587, 598, 638, 625, 37, 6, 17, 583, 388, 16, 619, 25, 416, 34, 505, 275, 10, 632, 502, 638, 410, 30, 627, 623, 577, 581, 595, 360, 570, 640, 495, 600, 596, 589, 61, 612, 665, 600, 598, 12, 105, 442, 592, 66, 641, 5, 545, 570, 385, 645, 590, 480, 26, 52, 610, 369, 587, 647, 614, 616, 38, 657, 17, 16, 591, 500, 515, 10, 531, 651, 528, 28, 74, 473, 26, 21, 574, 393, 60, 564, 609, 5, 503, 626, 626, 514, 620, 15, 11, 53, 9, 365, 54, 31, 529, 667, 60, 626, 391, 653, 469, 623, 607, 665, 700, 694, 560, 674, 680, 628, 623, 651, 666, 646, 640, 674, 686, 646, 601, 646, 677, 643, 698, 670, 664, 626, 676, 677, 660, 633, 661, 675, 696, 672, 586, 627, 666, 656, 553, 642, 667, 645, 564, 613, 657, 610, 699, 665, 667, 661, 680, 676, 664, 625, 709, 684, 630, 640, 596, 670, 684, 622, 714, 691, 710, 573, 646, 674, 669, 677, 664, 656, 639, 554, 679, 674, 673, 645, 648, 676, 678, 605, 639, 532, 485, 618, 628, 694, 678, 663, 562, 642, 673, 632, 634, 684, 617, 654, 621, 664, 643, 622, 631, 622, 651, 667, 597, 649, 648, 671, 519, 745, 587, 630, 710, 631, 599, 754, 602, 639, 648, 526, 477, 696, 671, 757, 748, 420, 325, 297, 507, 621, 679, 616, 696, 572, 756, 433, 461, 377, 661, 426, 732, 450, 709, 455, 752, 631, 429, 327, 727, 438, 762, 724, 714, 731, 329, 737, 681, 734, 681, 440, 416, 412, 704, 472, 469, 665, 600, 715, 508, 734, 563, 711, 405, 727, 588, 697, 601, 632, 514, 684, 496, 757, 578, 531, 469, 745, 725, 472, 712, 738, 542, 566, 413, 607, 472, 645, 670, 340, 716, 638, 277, 609, 646, 478, 747, 506, 703, 411, 718, 720, 719, 477, 684, 451, 587, 625, 631, 628, 618, 572, 534, 666, 569, 651, 565, 606, 624, 667, 601, 671, 645, 662, 672, 549, 508, 566, 529, 598, 554, 530, 640, 557, 660, 588, 545, 646, 670, 592, 581, 623, 598, 613, 601, 652, 544, 648, 565, 638, 609, 601, 615, 670, 649, 579, 547, 584, 563, 626, 590, 600, 578, 601, 540, 553, 550, 616, 641, 587, 632, 570, 581, 608, 574, 661, 620, 557, 625, 574, 556, 562, 649, 665, 619, 624, 607, 603, 658, 629, 572, 474, 606, 682, 524, 612, 523, 596, 590, 644, 623, 673, 595, 498, 638, 672, 587, 566, 531, 545, 664, 572, 558, 651, 646, 656, 598, 550, 585, 571, 657, 559, 635, 588, 114, 582, 602, 490, 671, 608, 502, 506, 672, 605, 214, 99, 655, 648, 510, 643, 445, 596, 547, 582, 671, 580, 567, 646, 621, 660, 47, 667, 674, 563, 584, 652, 533, 617, 528, 611, 623, 616, 457, 684, 429, 600, 658, 560, 551, 539, 344, 667, 576, 603, 568, 560, 500, 659, 355, 659, 523, 339, 150, 599, 395, 489, 520, 73, 593, 451, 622, 149, 655, 668, 648, 688, 509, 629, 88, 116, 528, 659, 530, 434, 628, 678, 502, 687, 170, 527, 670, 440, 526, 624, 626, 452, 611, 629, 526, 482, 340, 637, 677, 716, 756, 767, 772, 737, 765, 762, 758, 773, 770, 729, 473, 735, 738, 766, 778, 775, 764, 765, 709, 753, 729, 739, 755, 719, 764, 749, 764, 617, 756, 785, 771, 618, 712, 765, 766, 740, 703, 695, 772, 759, 737, 752, 645, 766, 640, 755, 768, 753, 768, 758, 754, 742, 787, 709, 769, 761, 769, 751, 776, 759, 700, 747, 586, 653, 753, 768, 588, 655, 777, 702, 762, 765, 768, 654, 697, 677, 775, 751, 758, 739, 610, 595, 643, 664, 769, 760, 763, 707, 609, 778, 695, 626, 765, 758, 606, 771, 757, 599, 627, 604, 594, 705, 781, 746, 767, 733, 651, 204, 77, 364, 27, 52, 552, 51, 47, 12, 214, 579, 361, 50, 174, 19, 30, 45, 62, 301, 16, 253, 588, 48, 80, 502, 280, 450, 33, 19, 15, 53, 198, 66, 131, 170, 76, 102, 380, 82, 42, 569, 26, 57, 89, 209, 24, 42, 87, 85, 50, 324, 175, 63, 70, 427, 80, 57, 602, 73, 444, 441, 121, 43, 17, 40, 56, 247, 84, 287, 39, 43, 89, 341, 72, 297, 58, 10, 65, 13, 490, 34, 23, 39, 52, 131, 31, 182, 28, 270, 36, 546, 211, 560, 22, 20, 34, 42, 339, 412, 35, 540, 21, 379, 397, 281, 38, 46, 49, 1, 1, 20, 2, 4, 43, 1, 2, 2, 471, 4, 42, 371, 1, 1, 2, 6, 1, 102, 2, 60, 16, 12, 754, 765, 770, 775, 769, 763, 741, 770, 772, 770, 774, 764, 749, 766, 767, 748, 774, 752, 767, 756, 769, 766, 778, 773, 769, 784, 771, 776, 774, 743, 763, 769, 781, 771, 775, 753, 771, 769, 761, 777, 764, 763, 774, 768, 768, 760, 776, 757, 760, 762, 770, 763, 758, 779, 757, 775, 768, 763, 773, 772, 779, 764, 768, 764, 766, 763, 770, 772, 756, 749, 772, 773, 765, 764, 754, 767, 766, 773, 770, 778, 787, 772, 783, 780, 770, 767, 767, 760, 775, 778, 783, 766, 775, 782, 773, 776, 757, 758, 781, 767, 788, 776, 773, 754, 771, 764, 775, 776]\n",
            "1103\n",
            "[ 0.  0.  0. ... 10. 10. 10.]\n"
          ],
          "name": "stdout"
        }
      ]
    },
    {
      "cell_type": "code",
      "metadata": {
        "colab": {
          "base_uri": "https://localhost:8080/"
        },
        "id": "vfcvQ_lhul1y",
        "outputId": "65a45dfd-bee9-40bf-d56c-6acf8b66f96a"
      },
      "source": [
        " X = np.delete(X,0,0)\n",
        "\n",
        "print(X)"
      ],
      "execution_count": null,
      "outputs": [
        {
          "output_type": "stream",
          "text": [
            "[[248. 198. 213. ... 163.   4.  33.]\n",
            " [221. 221.  31. ... 115. 233.  34.]\n",
            " [ 61.  71. 237. ... 251.  80.  33.]\n",
            " ...\n",
            " [ 33.  59. 175. ... 235. 118. 250.]\n",
            " [172. 153. 120. ... 170.  68. 114.]\n",
            " [163. 240.  46. ...  13.  21. 239.]]\n"
          ],
          "name": "stdout"
        }
      ]
    },
    {
      "cell_type": "code",
      "metadata": {
        "colab": {
          "base_uri": "https://localhost:8080/",
          "height": 223
        },
        "id": "vgOYIgpiXd4O",
        "outputId": "4e0112fd-a096-4ae1-c204-c20b6c59aa54"
      },
      "source": [
        "df = pd.DataFrame(data = X)\n",
        "df['Category'] = Y.tolist()\n",
        "df.head()"
      ],
      "execution_count": null,
      "outputs": [
        {
          "output_type": "execute_result",
          "data": {
            "text/html": [
              "<div>\n",
              "<style scoped>\n",
              "    .dataframe tbody tr th:only-of-type {\n",
              "        vertical-align: middle;\n",
              "    }\n",
              "\n",
              "    .dataframe tbody tr th {\n",
              "        vertical-align: top;\n",
              "    }\n",
              "\n",
              "    .dataframe thead th {\n",
              "        text-align: right;\n",
              "    }\n",
              "</style>\n",
              "<table border=\"1\" class=\"dataframe\">\n",
              "  <thead>\n",
              "    <tr style=\"text-align: right;\">\n",
              "      <th></th>\n",
              "      <th>0</th>\n",
              "      <th>1</th>\n",
              "      <th>2</th>\n",
              "      <th>3</th>\n",
              "      <th>4</th>\n",
              "      <th>5</th>\n",
              "      <th>6</th>\n",
              "      <th>7</th>\n",
              "      <th>8</th>\n",
              "      <th>9</th>\n",
              "      <th>10</th>\n",
              "      <th>11</th>\n",
              "      <th>12</th>\n",
              "      <th>13</th>\n",
              "      <th>14</th>\n",
              "      <th>15</th>\n",
              "      <th>16</th>\n",
              "      <th>17</th>\n",
              "      <th>18</th>\n",
              "      <th>19</th>\n",
              "      <th>20</th>\n",
              "      <th>21</th>\n",
              "      <th>22</th>\n",
              "      <th>23</th>\n",
              "      <th>24</th>\n",
              "      <th>25</th>\n",
              "      <th>26</th>\n",
              "      <th>27</th>\n",
              "      <th>28</th>\n",
              "      <th>29</th>\n",
              "      <th>30</th>\n",
              "      <th>31</th>\n",
              "      <th>Category</th>\n",
              "    </tr>\n",
              "  </thead>\n",
              "  <tbody>\n",
              "    <tr>\n",
              "      <th>0</th>\n",
              "      <td>248.0</td>\n",
              "      <td>198.0</td>\n",
              "      <td>213.0</td>\n",
              "      <td>101.0</td>\n",
              "      <td>58.0</td>\n",
              "      <td>14.0</td>\n",
              "      <td>67.0</td>\n",
              "      <td>56.0</td>\n",
              "      <td>54.0</td>\n",
              "      <td>175.0</td>\n",
              "      <td>167.0</td>\n",
              "      <td>112.0</td>\n",
              "      <td>87.0</td>\n",
              "      <td>55.0</td>\n",
              "      <td>136.0</td>\n",
              "      <td>118.0</td>\n",
              "      <td>87.0</td>\n",
              "      <td>84.0</td>\n",
              "      <td>108.0</td>\n",
              "      <td>40.0</td>\n",
              "      <td>40.0</td>\n",
              "      <td>149.0</td>\n",
              "      <td>105.0</td>\n",
              "      <td>31.0</td>\n",
              "      <td>233.0</td>\n",
              "      <td>239.0</td>\n",
              "      <td>49.0</td>\n",
              "      <td>84.0</td>\n",
              "      <td>178.0</td>\n",
              "      <td>163.0</td>\n",
              "      <td>4.0</td>\n",
              "      <td>33.0</td>\n",
              "      <td>0.0</td>\n",
              "    </tr>\n",
              "    <tr>\n",
              "      <th>1</th>\n",
              "      <td>221.0</td>\n",
              "      <td>221.0</td>\n",
              "      <td>31.0</td>\n",
              "      <td>214.0</td>\n",
              "      <td>36.0</td>\n",
              "      <td>70.0</td>\n",
              "      <td>212.0</td>\n",
              "      <td>177.0</td>\n",
              "      <td>228.0</td>\n",
              "      <td>18.0</td>\n",
              "      <td>174.0</td>\n",
              "      <td>0.0</td>\n",
              "      <td>218.0</td>\n",
              "      <td>121.0</td>\n",
              "      <td>57.0</td>\n",
              "      <td>227.0</td>\n",
              "      <td>64.0</td>\n",
              "      <td>116.0</td>\n",
              "      <td>124.0</td>\n",
              "      <td>106.0</td>\n",
              "      <td>105.0</td>\n",
              "      <td>225.0</td>\n",
              "      <td>147.0</td>\n",
              "      <td>108.0</td>\n",
              "      <td>227.0</td>\n",
              "      <td>171.0</td>\n",
              "      <td>102.0</td>\n",
              "      <td>16.0</td>\n",
              "      <td>8.0</td>\n",
              "      <td>115.0</td>\n",
              "      <td>233.0</td>\n",
              "      <td>34.0</td>\n",
              "      <td>0.0</td>\n",
              "    </tr>\n",
              "    <tr>\n",
              "      <th>2</th>\n",
              "      <td>61.0</td>\n",
              "      <td>71.0</td>\n",
              "      <td>237.0</td>\n",
              "      <td>109.0</td>\n",
              "      <td>52.0</td>\n",
              "      <td>46.0</td>\n",
              "      <td>110.0</td>\n",
              "      <td>16.0</td>\n",
              "      <td>37.0</td>\n",
              "      <td>232.0</td>\n",
              "      <td>123.0</td>\n",
              "      <td>228.0</td>\n",
              "      <td>243.0</td>\n",
              "      <td>99.0</td>\n",
              "      <td>145.0</td>\n",
              "      <td>242.0</td>\n",
              "      <td>94.0</td>\n",
              "      <td>228.0</td>\n",
              "      <td>93.0</td>\n",
              "      <td>110.0</td>\n",
              "      <td>137.0</td>\n",
              "      <td>176.0</td>\n",
              "      <td>65.0</td>\n",
              "      <td>8.0</td>\n",
              "      <td>230.0</td>\n",
              "      <td>237.0</td>\n",
              "      <td>160.0</td>\n",
              "      <td>144.0</td>\n",
              "      <td>110.0</td>\n",
              "      <td>251.0</td>\n",
              "      <td>80.0</td>\n",
              "      <td>33.0</td>\n",
              "      <td>0.0</td>\n",
              "    </tr>\n",
              "    <tr>\n",
              "      <th>3</th>\n",
              "      <td>13.0</td>\n",
              "      <td>142.0</td>\n",
              "      <td>229.0</td>\n",
              "      <td>69.0</td>\n",
              "      <td>20.0</td>\n",
              "      <td>46.0</td>\n",
              "      <td>235.0</td>\n",
              "      <td>186.0</td>\n",
              "      <td>118.0</td>\n",
              "      <td>170.0</td>\n",
              "      <td>126.0</td>\n",
              "      <td>68.0</td>\n",
              "      <td>209.0</td>\n",
              "      <td>97.0</td>\n",
              "      <td>145.0</td>\n",
              "      <td>102.0</td>\n",
              "      <td>53.0</td>\n",
              "      <td>68.0</td>\n",
              "      <td>124.0</td>\n",
              "      <td>172.0</td>\n",
              "      <td>129.0</td>\n",
              "      <td>244.0</td>\n",
              "      <td>245.0</td>\n",
              "      <td>14.0</td>\n",
              "      <td>77.0</td>\n",
              "      <td>174.0</td>\n",
              "      <td>229.0</td>\n",
              "      <td>132.0</td>\n",
              "      <td>239.0</td>\n",
              "      <td>224.0</td>\n",
              "      <td>80.0</td>\n",
              "      <td>160.0</td>\n",
              "      <td>0.0</td>\n",
              "    </tr>\n",
              "    <tr>\n",
              "      <th>4</th>\n",
              "      <td>195.0</td>\n",
              "      <td>160.0</td>\n",
              "      <td>39.0</td>\n",
              "      <td>213.0</td>\n",
              "      <td>44.0</td>\n",
              "      <td>14.0</td>\n",
              "      <td>233.0</td>\n",
              "      <td>57.0</td>\n",
              "      <td>126.0</td>\n",
              "      <td>248.0</td>\n",
              "      <td>210.0</td>\n",
              "      <td>80.0</td>\n",
              "      <td>240.0</td>\n",
              "      <td>210.0</td>\n",
              "      <td>213.0</td>\n",
              "      <td>103.0</td>\n",
              "      <td>100.0</td>\n",
              "      <td>5.0</td>\n",
              "      <td>126.0</td>\n",
              "      <td>175.0</td>\n",
              "      <td>227.0</td>\n",
              "      <td>221.0</td>\n",
              "      <td>247.0</td>\n",
              "      <td>89.0</td>\n",
              "      <td>133.0</td>\n",
              "      <td>56.0</td>\n",
              "      <td>235.0</td>\n",
              "      <td>144.0</td>\n",
              "      <td>8.0</td>\n",
              "      <td>160.0</td>\n",
              "      <td>81.0</td>\n",
              "      <td>172.0</td>\n",
              "      <td>0.0</td>\n",
              "    </tr>\n",
              "  </tbody>\n",
              "</table>\n",
              "</div>"
            ],
            "text/plain": [
              "       0      1      2      3     4  ...     28     29     30     31  Category\n",
              "0  248.0  198.0  213.0  101.0  58.0  ...  178.0  163.0    4.0   33.0       0.0\n",
              "1  221.0  221.0   31.0  214.0  36.0  ...    8.0  115.0  233.0   34.0       0.0\n",
              "2   61.0   71.0  237.0  109.0  52.0  ...  110.0  251.0   80.0   33.0       0.0\n",
              "3   13.0  142.0  229.0   69.0  20.0  ...  239.0  224.0   80.0  160.0       0.0\n",
              "4  195.0  160.0   39.0  213.0  44.0  ...    8.0  160.0   81.0  172.0       0.0\n",
              "\n",
              "[5 rows x 33 columns]"
            ]
          },
          "metadata": {
            "tags": []
          },
          "execution_count": 82
        }
      ]
    },
    {
      "cell_type": "markdown",
      "metadata": {
        "id": "6V4KajqrRKVy"
      },
      "source": [
        "#Train Test Split (80-20)"
      ]
    },
    {
      "cell_type": "code",
      "metadata": {
        "colab": {
          "base_uri": "https://localhost:8080/"
        },
        "id": "J_oIByvNYhoO",
        "outputId": "e280166c-8533-4330-da70-2a39d536fdf1"
      },
      "source": [
        "from sklearn.model_selection import train_test_split\n",
        "\n",
        "#x = df.drop(['Category'],axis ='columns')\n",
        "#y = df.Category\n",
        "\n",
        "\n",
        "x_train_imgs, x_test_imgs, y_train, y_test = train_test_split(images, y, test_size=0.2)\n",
        "\n",
        "print(len(x_train_imgs))\n",
        "print(len(x_test_imgs))"
      ],
      "execution_count": null,
      "outputs": [
        {
          "output_type": "stream",
          "text": [
            "882\n",
            "221\n"
          ],
          "name": "stdout"
        }
      ]
    },
    {
      "cell_type": "code",
      "metadata": {
        "colab": {
          "base_uri": "https://localhost:8080/"
        },
        "id": "jqWhib-926AX",
        "outputId": "ed419708-1287-4c49-f258-750200196067"
      },
      "source": [
        "print(x_train_imgs.shape)\n",
        "print(y_train.shape)\n",
        "print(x_test_imgs.shape)\n",
        "print(y_test.shape)"
      ],
      "execution_count": null,
      "outputs": [
        {
          "output_type": "stream",
          "text": [
            "(882,)\n",
            "(882,)\n",
            "(221,)\n",
            "(221,)\n"
          ],
          "name": "stdout"
        }
      ]
    },
    {
      "cell_type": "code",
      "metadata": {
        "id": "oWIGQSQscnyk"
      },
      "source": [
        "x_train = np.zeros(32).reshape(1,32)\n",
        "for d in x_train_imgs:\n",
        "  x_train = np.vstack((x_train,d[:][:]))\n"
      ],
      "execution_count": null,
      "outputs": []
    },
    {
      "cell_type": "code",
      "metadata": {
        "id": "Tp5RSLLYdyvP"
      },
      "source": [
        "x_train = np.delete(x_train,0,0)"
      ],
      "execution_count": null,
      "outputs": []
    },
    {
      "cell_type": "code",
      "metadata": {
        "colab": {
          "base_uri": "https://localhost:8080/"
        },
        "id": "3qr6CpB8dooE",
        "outputId": "cf425468-e5ff-4beb-ef7e-b5b0d726b175"
      },
      "source": [
        "print(x_train)\n",
        "print(x_train.shape)"
      ],
      "execution_count": null,
      "outputs": [
        {
          "output_type": "stream",
          "text": [
            "[[  2. 177. 235. ...   8. 220.  23.]\n",
            " [131. 153.  37. ...  36.  49. 220.]\n",
            " [ 57. 153.  58. ...  14. 219. 222.]\n",
            " ...\n",
            " [ 33. 121. 123. ... 146.  98. 249.]\n",
            " [120. 105.  26. ...  59.  40.  40.]\n",
            " [169. 233. 122. ... 138. 235. 232.]]\n",
            "(500089, 32)\n"
          ],
          "name": "stdout"
        }
      ]
    },
    {
      "cell_type": "code",
      "metadata": {
        "id": "HL_09_IWeFEu"
      },
      "source": [
        "x_test = np.zeros(32).reshape(1,32)\n",
        "for d in x_test_imgs:\n",
        "  x_test = np.vstack((x_test,d[:][:]))\n",
        "\n",
        "x_test = np.delete(x_test,0,0)"
      ],
      "execution_count": null,
      "outputs": []
    },
    {
      "cell_type": "code",
      "metadata": {
        "colab": {
          "base_uri": "https://localhost:8080/"
        },
        "id": "bm-1HHqhee15",
        "outputId": "4a6e85bb-fa70-40e0-d718-e3c0115836a7"
      },
      "source": [
        "print(x_test)\n",
        "print(x_test.shape)"
      ],
      "execution_count": null,
      "outputs": [
        {
          "output_type": "stream",
          "text": [
            "[[220. 125. 250. ... 255.  12.  43.]\n",
            " [143. 177. 164. ... 124. 181. 254.]\n",
            " [  9. 187. 177. ... 132. 137. 213.]\n",
            " ...\n",
            " [243.  28. 238. ... 116.  29.  94.]\n",
            " [ 74. 191. 232. ... 197. 214.  91.]\n",
            " [ 28. 176. 183. ...  39.  37. 118.]]\n",
            "(127131, 32)\n"
          ],
          "name": "stdout"
        }
      ]
    },
    {
      "cell_type": "markdown",
      "metadata": {
        "id": "5uF6UdBdRdO1"
      },
      "source": [
        "#Importing Libraries for K-means clustering and classifiers"
      ]
    },
    {
      "cell_type": "code",
      "metadata": {
        "id": "hV_LYy20oH4y"
      },
      "source": [
        "from sklearn.model_selection import train_test_split\n",
        "from sklearn.neighbors import KNeighborsClassifier\n",
        "from sklearn import svm\n",
        "from sklearn.naive_bayes import GaussianNB\n",
        "import sklearn\n",
        "from sklearn.neural_network import MLPClassifier\n",
        "from sklearn.gaussian_process import GaussianProcessClassifier\n",
        "from sklearn.gaussian_process.kernels import RBF\n",
        "from sklearn.tree import DecisionTreeClassifier\n",
        "from sklearn.ensemble import RandomForestClassifier, AdaBoostClassifier\n",
        "from sklearn.naive_bayes import GaussianNB,MultinomialNB\n",
        "from sklearn.discriminant_analysis import QuadraticDiscriminantAnalysis\n",
        "from sklearn.decomposition import PCA\n",
        "\n",
        "# from sklearn.model_selection import cross_val_score\n",
        "from sklearn.cluster import KMeans"
      ],
      "execution_count": null,
      "outputs": []
    },
    {
      "cell_type": "markdown",
      "metadata": {
        "id": "erBGjz-WRm-i"
      },
      "source": [
        "## Number of clusters"
      ]
    },
    {
      "cell_type": "code",
      "metadata": {
        "id": "er8E-XLr7FgG"
      },
      "source": [
        "n = 100"
      ],
      "execution_count": null,
      "outputs": []
    },
    {
      "cell_type": "markdown",
      "metadata": {
        "id": "Y5qxDfZrUj00"
      },
      "source": [
        "#KMeans Clustering"
      ]
    },
    {
      "cell_type": "code",
      "metadata": {
        "id": "01mvEsYO7T57",
        "colab": {
          "base_uri": "https://localhost:8080/"
        },
        "outputId": "4ad4df99-afa0-41fc-cdef-a0262d91eaac"
      },
      "source": [
        "kmeans = KMeans(n_clusters = n, random_state=0)\n",
        "kmeans.fit(x_train)"
      ],
      "execution_count": null,
      "outputs": [
        {
          "output_type": "execute_result",
          "data": {
            "text/plain": [
              "KMeans(algorithm='auto', copy_x=True, init='k-means++', max_iter=300,\n",
              "       n_clusters=100, n_init=10, n_jobs=None, precompute_distances='auto',\n",
              "       random_state=0, tol=0.0001, verbose=0)"
            ]
          },
          "metadata": {
            "tags": []
          },
          "execution_count": 118
        }
      ]
    },
    {
      "cell_type": "code",
      "metadata": {
        "id": "dBayZryHnvxQ",
        "colab": {
          "base_uri": "https://localhost:8080/"
        },
        "outputId": "1b8f73a5-8c02-4dd4-87b1-4c1f296361f0"
      },
      "source": [
        "kmeans.cluster_centers_.shape"
      ],
      "execution_count": null,
      "outputs": [
        {
          "output_type": "execute_result",
          "data": {
            "text/plain": [
              "(100, 32)"
            ]
          },
          "metadata": {
            "tags": []
          },
          "execution_count": 119
        }
      ]
    },
    {
      "cell_type": "code",
      "metadata": {
        "id": "WN9pRYw_pA_W",
        "colab": {
          "base_uri": "https://localhost:8080/"
        },
        "outputId": "812b0418-d89f-4505-a4fc-035cc78753a1"
      },
      "source": [
        "print(kmeans.labels_)\n",
        "print(kmeans.labels_.shape)"
      ],
      "execution_count": null,
      "outputs": [
        {
          "output_type": "stream",
          "text": [
            "[59 87 89 ...  5 94  8]\n",
            "(500089,)\n"
          ],
          "name": "stdout"
        }
      ]
    },
    {
      "cell_type": "code",
      "metadata": {
        "id": "B_pmL2XjpMvd"
      },
      "source": [
        "pred = kmeans.predict(x_test)"
      ],
      "execution_count": null,
      "outputs": []
    },
    {
      "cell_type": "code",
      "metadata": {
        "id": "BcOBAmWRpYUw",
        "colab": {
          "base_uri": "https://localhost:8080/"
        },
        "outputId": "1c87c18c-0b73-41ac-b328-5c2c3586c508"
      },
      "source": [
        "print(pred.shape)\n",
        "print(pred)\n"
      ],
      "execution_count": null,
      "outputs": [
        {
          "output_type": "stream",
          "text": [
            "(127131,)\n",
            "[14 37 92 ... 14 72  3]\n"
          ],
          "name": "stdout"
        }
      ]
    },
    {
      "cell_type": "code",
      "metadata": {
        "id": "bmKnTqlKt9oM",
        "colab": {
          "base_uri": "https://localhost:8080/",
          "height": 567
        },
        "outputId": "4687ec72-0430-4a64-ed68-bb2dd843b9fb"
      },
      "source": [
        "plt.hist(pred, bins = np.arange(n))"
      ],
      "execution_count": null,
      "outputs": [
        {
          "output_type": "execute_result",
          "data": {
            "text/plain": [
              "(array([1275., 1208., 1305., 1495., 1186., 1208., 1227., 1187., 1393.,\n",
              "        1272., 1225., 1396., 1349., 1430., 1406., 1196., 1194., 1228.,\n",
              "        1198., 1297., 1395., 1274., 1277., 1246., 1397., 1119., 1330.,\n",
              "        1267., 1248., 1300., 1263., 1355., 1239., 1234., 1093., 1258.,\n",
              "        1275., 1225., 1318., 1331., 1219., 1347., 1363., 1302., 1266.,\n",
              "        1417., 1216., 1128., 1359., 1121., 1338., 1215., 1271., 1348.,\n",
              "        1074., 1265., 1292., 1290., 1251., 1213., 1232., 1440., 1323.,\n",
              "        1255., 1266., 1123.,  952., 1259., 1402., 1412., 1215., 1252.,\n",
              "        1306., 1341., 1179., 1189., 1186., 1291., 1230., 1124., 1200.,\n",
              "        1359., 1285., 1262., 1264., 1239., 1196., 1278., 1294., 1258.,\n",
              "        1278., 1368., 1338., 1222., 1439., 1357., 1288., 1348., 2467.]),\n",
              " array([ 0,  1,  2,  3,  4,  5,  6,  7,  8,  9, 10, 11, 12, 13, 14, 15, 16,\n",
              "        17, 18, 19, 20, 21, 22, 23, 24, 25, 26, 27, 28, 29, 30, 31, 32, 33,\n",
              "        34, 35, 36, 37, 38, 39, 40, 41, 42, 43, 44, 45, 46, 47, 48, 49, 50,\n",
              "        51, 52, 53, 54, 55, 56, 57, 58, 59, 60, 61, 62, 63, 64, 65, 66, 67,\n",
              "        68, 69, 70, 71, 72, 73, 74, 75, 76, 77, 78, 79, 80, 81, 82, 83, 84,\n",
              "        85, 86, 87, 88, 89, 90, 91, 92, 93, 94, 95, 96, 97, 98, 99]),\n",
              " <a list of 99 Patch objects>)"
            ]
          },
          "metadata": {
            "tags": []
          },
          "execution_count": 123
        },
        {
          "output_type": "display_data",
          "data": {
            "image/png": "[encoded data removed]",
            "text/plain": [
              "<Figure size 432x288 with 1 Axes>"
            ]
          },
          "metadata": {
            "tags": [],
            "needs_background": "light"
          }
        }
      ]
    },
    {
      "cell_type": "code",
      "metadata": {
        "id": "NL3Xbnw8RmGh",
        "colab": {
          "base_uri": "https://localhost:8080/"
        },
        "outputId": "569804a7-a8e5-4b0e-9379-3faf0b14d7d1"
      },
      "source": [
        "cstr = np.zeros(len(x_train_imgs) + 1)\n",
        "for i in range(len(x_train_imgs)):\n",
        "  cstr[i+1] = cstr[i] + len(x_train_imgs[i])\n",
        "\n",
        "print(cstr)\n",
        "print(cstr.shape)"
      ],
      "execution_count": null,
      "outputs": [
        {
          "output_type": "stream",
          "text": [
            "[     0.    578.   1230.   1703.   2341.   2967.   2993.   3013.   3015.\n",
            "   3539.   4258.   5022.   5060.   5384.   6042.   6653.   7416.   7994.\n",
            "   8741.   9444.  10011.  10655.  10995.  11625.  12280.  12979.  13541.\n",
            "  14215.  14836.  15452.  15515.  16211.  16881.  17546.  17556.  18251.\n",
            "  18907.  19409.  19995.  20591.  21264.  21891.  22490.  23174.  23954.\n",
            "  24663.  25173.  25650.  26317.  26928.  27695.  28364.  28402.  29074.\n",
            "  29090.  29675.  30380.  31135.  31161.  31612.  31617.  32337.  32826.\n",
            "  33591.  34362.  35026.  35533.  35990.  36106.  36816.  36826.  37516.\n",
            "  38291.  39045.  39655.  39683.  40360.  40930.  40972.  41739.  42258.\n",
            "  42936.  42993.  43045.  43757.  44191.  44902.  45374.  46045.  46715.\n",
            "  47455.  48101.  48707.  49475.  50222.  50968.  51720.  52486.  52902.\n",
            "  53346.  53377.  54078.  54832.  55245.  56003.  56632.  57410.  57423.\n",
            "  58010.  58555.  59212.  59987.  60652.  61316.  61987.  62546.  63275.\n",
            "  63300.  63895.  64576.  65334.  65913.  66124.  66713.  67139.  67761.\n",
            "  68263.  69012.  69040.  69724.  70449.  71002.  71616.  72214.  72264.\n",
            "  72968.  73629.  74226.  74981.  75584.  76221.  76785.  77194.  77887.\n",
            "  78510.  79132.  79861.  80249.  80857.  81626.  82252.  82903.  83659.\n",
            "  84422.  85209.  85952.  85957.  86718.  87378.  88041.  88809.  89486.\n",
            "  90170.  90172.  90768.  91519.  91531.  92268.  92870.  93513.  93547.\n",
            "  94187.  94800.  95537.  96117.  96897.  97656.  98323.  98921.  99637.\n",
            "  99846. 100336. 100663. 101301. 102067. 102733. 103298. 104055. 104701.\n",
            " 105365. 106065. 106593. 107380. 107995. 108677. 109395. 109955. 110696.\n",
            " 111298. 112066. 112835. 113417. 114101. 114811. 115421. 116206. 116481.\n",
            " 117069. 117657. 118299. 118928. 119526. 120065. 120835. 121606. 122233.\n",
            " 122813. 123465. 124012. 124753. 125492. 126182. 126906. 127567. 128320.\n",
            " 129035. 129740. 130137. 130900. 131607. 131888. 132508. 133287. 133699.\n",
            " 134303. 134978. 135449. 136076. 136207. 136684. 136741. 137440. 138013.\n",
            " 138514. 139181. 139521. 140144. 140755. 141337. 141986. 142656. 143304.\n",
            " 143846. 144438. 145012. 145715. 146427. 147084. 147765. 148534. 149196.\n",
            " 149865. 150626. 150656. 151218. 151825. 152499. 153263. 154038. 154488.\n",
            " 154984. 155752. 156520. 156536. 156551. 156911. 157681. 158396. 159117.\n",
            " 159645. 160211. 160801. 161424. 161971. 162007. 162537. 163095. 163683.\n",
            " 164370. 165057. 165658. 166328. 167100. 167709. 167891. 168565. 169205.\n",
            " 169934. 170436. 171175. 171795. 172553. 173125. 173783. 174357. 174377.\n",
            " 175042. 175256. 175302. 176011. 176670. 177203. 177245. 177868. 178513.\n",
            " 179240. 179938. 180641. 181191. 181822. 182262. 182936. 183613. 184303.\n",
            " 184818. 185495. 185967. 186591. 187300. 188021. 188669. 188703. 189474.\n",
            " 190245. 190748. 190769. 191517. 192196. 192866. 193307. 193381. 194150.\n",
            " 194890. 195516. 196108. 196748. 197233. 197602. 197652. 198349. 199004.\n",
            " 199621. 199898. 200569. 201113. 201751. 202514. 203152. 203925. 204588.\n",
            " 205350. 206108. 206694. 207406. 208171. 208935. 209692. 210317. 210989.\n",
            " 211555. 212260. 212281. 212882. 212934. 213637. 214028. 214094. 214785.\n",
            " 214983. 215724. 216334. 216945. 217723. 218345. 219115. 219655. 220265.\n",
            " 220897. 220981. 220998. 221747. 222395. 223046. 223097. 223856. 224434.\n",
            " 225185. 225929. 225948. 226644. 227378. 227434. 228194. 228970. 229490.\n",
            " 229935. 230037. 230618. 231401. 232128. 232912. 233628. 234381. 235083.\n",
            " 235793. 236567. 237337. 237937. 238715. 238746. 239348. 239953. 239970.\n",
            " 240629. 241343. 241927. 242557. 242898. 242904. 243555. 244303. 244954.\n",
            " 245609. 246375. 247053. 247700. 248272. 248923. 249661. 250248. 250703.\n",
            " 251083. 251552. 252269. 252948. 253714. 254490. 255077. 255809. 256317.\n",
            " 256419. 257156. 257862. 258540. 259096. 259737. 260309. 260610. 261353.\n",
            " 262013. 262474. 263115. 263160. 263440. 263487. 263882. 264644. 265170.\n",
            " 265923. 266623. 267268. 267341. 268106. 268754. 268755. 269519. 270146.\n",
            " 270927. 271558. 272190. 272957. 273569. 274187. 274863. 275511. 276262.\n",
            " 276285. 277066. 277675. 278385. 279156. 279685. 280441. 281064. 281491.\n",
            " 282229. 282891. 283320. 283396. 284093. 284593. 285203. 285874. 286161.\n",
            " 286780. 287309. 287955. 288543. 289316. 290086. 290702. 291329. 291937.\n",
            " 291943. 292074. 292841. 293567. 294276. 294745. 295195. 295878. 296592.\n",
            " 297263. 298026. 298702. 299411. 300091. 300640. 301264. 302021. 302691.\n",
            " 303355. 304115. 304527. 305267. 305956. 306590. 307232. 308000. 308532.\n",
            " 309100. 309578. 309621. 310230. 310273. 310773. 311387. 311434. 312060.\n",
            " 312723. 313377. 313947. 314117. 314704. 314715. 315411. 316164. 316224.\n",
            " 316226. 316238. 317003. 317712. 318289. 318322. 318411. 318957. 319046.\n",
            " 319805. 320529. 321302. 321921. 322666. 323312. 323882. 324469. 325231.\n",
            " 325874. 326437. 327110. 327180. 327953. 328720. 329483. 329955. 329956.\n",
            " 330650. 331288. 331822. 332498. 332909. 333684. 334451. 335111. 335797.\n",
            " 335850. 336215. 336784. 337541. 338189. 338837. 339391. 339457. 339522.\n",
            " 340085. 340842. 341596. 342333. 343072. 343732. 343792. 344392. 345037.\n",
            " 345063. 345730. 346391. 346899. 346915. 347675. 347741. 348367. 348416.\n",
            " 349143. 349847. 350392. 351069. 351462. 352231. 352774. 353515. 354138.\n",
            " 354910. 355577. 355591. 356031. 356791. 357354. 357844. 358404. 358978.\n",
            " 359734. 360335. 360336. 361096. 361862. 362644. 363318. 363760. 364366.\n",
            " 365011. 365015. 365340. 365961. 366694. 366716. 367296. 367970. 368184.\n",
            " 368869. 369596. 370263. 370264. 370906. 371507. 372236. 372948. 373630.\n",
            " 374384. 375024. 375665. 376343. 376883. 377579. 378235. 378853. 379509.\n",
            " 379548. 380262. 380905. 381433. 382103. 382609. 383222. 383957. 384483.\n",
            " 385192. 385810. 386543. 387254. 387728. 388492. 389172. 389686. 390365.\n",
            " 390514. 391120. 391137. 391799. 392465. 393171. 393894. 394571. 395342.\n",
            " 396101. 396646. 397418. 398137. 398217. 398699. 399409. 399748. 400349.\n",
            " 400936. 401489. 402241. 402836. 403606. 404310. 405019. 405686. 405768.\n",
            " 406537. 407302. 407871. 408242. 408711. 409372. 410070. 410754. 411438.\n",
            " 411480. 412058. 412806. 412893. 413557. 414202. 414865. 415481. 416238.\n",
            " 417025. 417770. 417818. 418022. 418687. 419433. 419983. 420663. 421405.\n",
            " 422091. 422589. 423247. 423271. 424023. 424778. 425387. 426103. 426827.\n",
            " 427539. 428273. 428993. 429724. 430197. 430819. 431596. 432047. 432719.\n",
            " 433372. 434010. 434071. 434580. 434935. 435681. 436434. 437099. 437101.\n",
            " 437780. 438507. 439088. 439769. 440398. 441026. 441549. 442303. 443052.\n",
            " 443547. 444165. 444670. 445439. 446134. 446135. 446907. 447669. 447679.\n",
            " 447681. 447951. 448639. 448760. 449320. 449919. 450670. 451286. 451298.\n",
            " 452056. 452637. 453307. 453914. 454655. 455364. 456140. 456740. 457343.\n",
            " 457994. 458054. 458067. 458676. 459430. 460071. 460696. 461342. 461927.\n",
            " 462614. 463332. 463949. 464606. 465266. 466031. 466460. 466548. 467246.\n",
            " 467261. 467915. 467942. 468542. 468962. 469650. 470202. 470786. 471382.\n",
            " 471965. 472727. 473446. 473977. 474652. 475387. 476011. 476692. 477264.\n",
            " 477896. 478665. 479337. 480116. 480684. 481211. 481975. 482354. 482384.\n",
            " 482914. 483657. 484282. 484839. 485614. 486263. 486302. 486958. 487622.\n",
            " 488215. 488983. 489605. 490375. 491006. 491747. 492520. 493195. 493868.\n",
            " 494571. 495202. 495834. 496465. 497183. 497959. 498654. 499233. 500009.\n",
            " 500089.]\n",
            "(883,)\n"
          ],
          "name": "stdout"
        }
      ]
    },
    {
      "cell_type": "code",
      "metadata": {
        "colab": {
          "base_uri": "https://localhost:8080/"
        },
        "id": "2EkOB4zHsD87",
        "outputId": "117320be-899a-4eab-e414-b7521feae439"
      },
      "source": [
        "cste = np.zeros(len(x_test_imgs) + 1)\n",
        "for i in range(len(x_test_imgs)):\n",
        "  cste[i+1] = cste[i] + len(x_test_imgs[i])\n",
        "\n",
        "print(cste)\n",
        "print(cste.shape)"
      ],
      "execution_count": null,
      "outputs": [
        {
          "output_type": "stream",
          "text": [
            "[     0.    619.   1294.   1901.   2075.   2841.   2991.   3634.   3643.\n",
            "   4401.   5072.   5746.   6501.   7072.   7829.   8595.   9343.   9448.\n",
            "  10201.  10912.  11671.  12304.  12358.  13023.  13613.  14342.  14844.\n",
            "  14896.  15563.  16335.  16996.  17663.  18361.  19127.  19915.  19987.\n",
            "  20518.  21205.  21869.  21927.  22224.  22931.  23605.  24249.  24800.\n",
            "  25357.  25610.  26384.  27038.  27629.  28268.  29033.  29678.  30455.\n",
            "  31166.  31712.  32462.  33097.  33272.  34044.  34722.  34739.  35245.\n",
            "  35839.  36622.  37353.  38127.  38902.  39548.  40271.  40287.  40858.\n",
            "  41516.  42142.  42741.  42775.  43351.  43648.  44418.  45087.  45821.\n",
            "  46559.  47203.  47871.  48617.  49218.  49741.  50387.  51015.  51034.\n",
            "  51660.  52289.  52983.  53573.  54344.  54956.  55018.  55646.  56318.\n",
            "  56978.  57716.  58494.  59191.  59966.  60643.  61416.  62056.  62489.\n",
            "  63110.  63871.  64495.  65080.  65799.  66548.  67320.  67397.  67993.\n",
            "  68332.  69099.  69659.  69663.  69716.  70316.  70975.  71541.  72146.\n",
            "  72598.  73269.  74037.  74366.  75012.  75126.  75793.  75892.  76626.\n",
            "  77207.  77895.  78642.  79416.  80079.  80857.  81458.  82217.  82883.\n",
            "  83531.  84170.  84934.  85691.  86256.  86299.  87045.  87809.  87844.\n",
            "  88375.  89062.  89679.  90430.  91180.  91660.  92299.  92952.  93516.\n",
            "  94255.  94922.  95698.  96103.  96768.  97206.  97583.  98341.  99114.\n",
            "  99810. 100591. 101364. 102110. 102751. 103435. 104023. 104711. 105055.\n",
            " 105807. 106570. 107326. 108083. 108839. 109434. 109960. 110558. 111322.\n",
            " 111938. 111939. 112639. 113049. 113091. 113689. 114317. 114354. 114960.\n",
            " 115045. 115691. 116205. 116830. 117579. 118346. 119121. 119291. 119676.\n",
            " 120325. 120741. 121105. 121843. 122471. 123015. 123690. 124051. 124712.\n",
            " 125478. 126217. 126290. 126537. 126577. 127131.]\n",
            "(222,)\n"
          ],
          "name": "stdout"
        }
      ]
    },
    {
      "cell_type": "markdown",
      "metadata": {
        "id": "37xkAwg4RvyP"
      },
      "source": [
        "# Getting histogram scalars for each image "
      ]
    },
    {
      "cell_type": "code",
      "metadata": {
        "id": "JDQALEOrnzRw"
      },
      "source": [
        "x_input = []\n",
        "x_test_input =[]"
      ],
      "execution_count": null,
      "outputs": []
    },
    {
      "cell_type": "code",
      "metadata": {
        "id": "zD_1JyKaSEz2"
      },
      "source": [
        "hists = []\n",
        "for i in range(len(cstr)):\n",
        "  if i == len(cstr)-1:\n",
        "    break\n",
        "  x_hist = np.histogram(kmeans.labels_[int(cstr[i]):int(cstr[i+1])], bins = np.arange(n+1))\n",
        "  x_norm = sklearn.preprocessing.normalize(x_hist[0].reshape(-1,1),axis=0)\n",
        "  hists.append(x_norm)\n",
        "  flag = 0\n",
        "\n",
        "x_input = np.stack(hists).reshape(-1,n)\n",
        "  "
      ],
      "execution_count": null,
      "outputs": []
    },
    {
      "cell_type": "code",
      "metadata": {
        "colab": {
          "base_uri": "https://localhost:8080/"
        },
        "id": "dZERaBrogAYw",
        "outputId": "3cb68b8e-bd59-4681-95b2-8053e0558007"
      },
      "source": [
        "print(x_input.shape)"
      ],
      "execution_count": null,
      "outputs": [
        {
          "output_type": "stream",
          "text": [
            "(882, 100)\n"
          ],
          "name": "stdout"
        }
      ]
    },
    {
      "cell_type": "code",
      "metadata": {
        "id": "qJdONtk8ogcG"
      },
      "source": [
        "hists = []\n",
        "for i in range(len(cste)):\n",
        "  if i == len(cste)-1:\n",
        "    break\n",
        "  x_hist = np.histogram(pred[int(cste[i]):int(cste[i+1])], bins = np.arange(n+1))\n",
        "  x_norm = sklearn.preprocessing.normalize(x_hist[0].reshape(-1,1),axis=0)\n",
        "  hists.append(x_norm)\n",
        "  flag = 0\n",
        "\n",
        "x_test_input = np.stack(hists).reshape(-1,n)"
      ],
      "execution_count": null,
      "outputs": []
    },
    {
      "cell_type": "code",
      "metadata": {
        "colab": {
          "base_uri": "https://localhost:8080/"
        },
        "id": "h9aW8OLLpg9b",
        "outputId": "c4bd5fcd-0e9c-4b55-fe78-8e0335a8a3c7"
      },
      "source": [
        "print(x_test_input.shape)"
      ],
      "execution_count": null,
      "outputs": [
        {
          "output_type": "stream",
          "text": [
            "(221, 100)\n"
          ],
          "name": "stdout"
        }
      ]
    },
    {
      "cell_type": "markdown",
      "metadata": {
        "id": "przhINq_R_gU"
      },
      "source": [
        "#KNN"
      ]
    },
    {
      "cell_type": "code",
      "metadata": {
        "colab": {
          "base_uri": "https://localhost:8080/"
        },
        "id": "nhVvDMAtx0ww",
        "outputId": "2eaf6548-0d86-45cc-9345-f48e2de0800d"
      },
      "source": [
        "KNN_1 = KNeighborsClassifier(1)\n",
        "KNN_1.fit(x_input, y_train)\n",
        "KNN_1.score(x_test_input,y_test)"
      ],
      "execution_count": null,
      "outputs": [
        {
          "output_type": "execute_result",
          "data": {
            "text/plain": [
              "0.7601809954751131"
            ]
          },
          "metadata": {
            "tags": []
          },
          "execution_count": 131
        }
      ]
    },
    {
      "cell_type": "code",
      "metadata": {
        "colab": {
          "base_uri": "https://localhost:8080/"
        },
        "id": "0GHM2WbCxsI2",
        "outputId": "c47b0e79-55ea-4805-dbc8-90d2ceef548c"
      },
      "source": [
        "KNN_5 = KNeighborsClassifier(5)\n",
        "KNN_5.fit(x_input, y_train)\n",
        "KNN_5.score(x_test_input,y_test)"
      ],
      "execution_count": null,
      "outputs": [
        {
          "output_type": "execute_result",
          "data": {
            "text/plain": [
              "0.7239819004524887"
            ]
          },
          "metadata": {
            "tags": []
          },
          "execution_count": 132
        }
      ]
    },
    {
      "cell_type": "code",
      "metadata": {
        "colab": {
          "base_uri": "https://localhost:8080/"
        },
        "id": "6RYgn3hAhDtB",
        "outputId": "79b3efaa-71fc-4364-c838-8606fc4ade3a"
      },
      "source": [
        "KNN_10 = KNeighborsClassifier(10)\n",
        "KNN_10.fit(x_input, y_train)\n",
        "KNN_10.score(x_test_input,y_test)"
      ],
      "execution_count": null,
      "outputs": [
        {
          "output_type": "execute_result",
          "data": {
            "text/plain": [
              "0.7194570135746606"
            ]
          },
          "metadata": {
            "tags": []
          },
          "execution_count": 133
        }
      ]
    },
    {
      "cell_type": "code",
      "metadata": {
        "colab": {
          "base_uri": "https://localhost:8080/"
        },
        "id": "k5ig9qN6vVTq",
        "outputId": "5c0455af-f77d-4e31-fa4e-de74552b9e11"
      },
      "source": [
        "KNN_20 = KNeighborsClassifier(20)\n",
        "KNN_20.fit(x_input, y_train)\n",
        "KNN_20.score(x_test_input,y_test)"
      ],
      "execution_count": null,
      "outputs": [
        {
          "output_type": "execute_result",
          "data": {
            "text/plain": [
              "0.6742081447963801"
            ]
          },
          "metadata": {
            "tags": []
          },
          "execution_count": 134
        }
      ]
    },
    {
      "cell_type": "code",
      "metadata": {
        "colab": {
          "base_uri": "https://localhost:8080/"
        },
        "id": "xlU5GoVCvcon",
        "outputId": "deaf5f2f-66f0-43e5-9c78-ebfe04d874ac"
      },
      "source": [
        "KNN_40 = KNeighborsClassifier(40)\n",
        "KNN_40.fit(x_input, y_train)\n",
        "KNN_40.score(x_test_input,y_test)"
      ],
      "execution_count": null,
      "outputs": [
        {
          "output_type": "execute_result",
          "data": {
            "text/plain": [
              "0.6470588235294118"
            ]
          },
          "metadata": {
            "tags": []
          },
          "execution_count": 135
        }
      ]
    },
    {
      "cell_type": "code",
      "metadata": {
        "id": "3R8uQ1zHqVaC",
        "colab": {
          "base_uri": "https://localhost:8080/"
        },
        "outputId": "89cdb681-1103-4e45-db74-d25eeaec3d1e"
      },
      "source": [
        "KNN_100 = KNeighborsClassifier(100)\n",
        "KNN_100.fit(x_input, y_train)\n",
        "KNN_100.score(x_test_input,y_test)\n"
      ],
      "execution_count": null,
      "outputs": [
        {
          "output_type": "execute_result",
          "data": {
            "text/plain": [
              "0.5565610859728507"
            ]
          },
          "metadata": {
            "tags": []
          },
          "execution_count": 136
        }
      ]
    },
    {
      "cell_type": "code",
      "metadata": {
        "colab": {
          "base_uri": "https://localhost:8080/"
        },
        "id": "rl3B9z7v-jjY",
        "outputId": "ccb65754-f23a-4ffe-b91b-9c449ecc4c9d"
      },
      "source": [
        "KNN_200 = KNeighborsClassifier(200)\n",
        "KNN_200.fit(x_input, y_train)\n",
        "KNN_200.score(x_test_input,y_test)"
      ],
      "execution_count": null,
      "outputs": [
        {
          "output_type": "execute_result",
          "data": {
            "text/plain": [
              "0.46153846153846156"
            ]
          },
          "metadata": {
            "tags": []
          },
          "execution_count": 137
        }
      ]
    },
    {
      "cell_type": "code",
      "metadata": {
        "colab": {
          "base_uri": "https://localhost:8080/",
          "height": 296
        },
        "id": "baMlJRj3VDnM",
        "outputId": "a9701275-064c-4aae-a709-00c4e266447e"
      },
      "source": [
        "knnx = [1,5,10,20,40,100,200]\n",
        "knny = [KNN_1.score(x_test_input,y_test),KNN_5.score(x_test_input,y_test),KNN_10.score(x_test_input,y_test),KNN_20.score(x_test_input,y_test),KNN_40.score(x_test_input,y_test), KNN_100.score(x_test_input,y_test),KNN_200.score(x_test_input,y_test)]\n",
        "plt.xlabel('Nearest neighbours')\n",
        "plt.ylabel('Accuracy')\n",
        "plt.plot(knnx,knny)"
      ],
      "execution_count": null,
      "outputs": [
        {
          "output_type": "execute_result",
          "data": {
            "text/plain": [
              "[<matplotlib.lines.Line2D at 0x7f74e0d5b5d0>]"
            ]
          },
          "metadata": {
            "tags": []
          },
          "execution_count": 138
        },
        {
          "output_type": "display_data",
          "data": {
            "image/png": "[encoded data removed]",
            "text/plain": [
              "<Figure size 432x288 with 1 Axes>"
            ]
          },
          "metadata": {
            "tags": [],
            "needs_background": "light"
          }
        }
      ]
    },
    {
      "cell_type": "markdown",
      "metadata": {
        "id": "oyCOkeCQTe6R"
      },
      "source": [
        "#Gaussian Naive Bayes"
      ]
    },
    {
      "cell_type": "code",
      "metadata": {
        "colab": {
          "base_uri": "https://localhost:8080/"
        },
        "id": "l5Ucp-mwyLFD",
        "outputId": "b8feb535-7be9-4110-c3a6-1e30ab0cb82f"
      },
      "source": [
        "GNB_clf = GaussianNB() \n",
        "GNB_clf.fit(x_input, y_train)\n",
        "GNB_clf.score(x_test_input,y_test)"
      ],
      "execution_count": null,
      "outputs": [
        {
          "output_type": "execute_result",
          "data": {
            "text/plain": [
              "0.7692307692307693"
            ]
          },
          "metadata": {
            "tags": []
          },
          "execution_count": 139
        }
      ]
    },
    {
      "cell_type": "markdown",
      "metadata": {
        "id": "mgTMkLYZTrEF"
      },
      "source": [
        "#Multinomial Naive Bayes"
      ]
    },
    {
      "cell_type": "code",
      "metadata": {
        "colab": {
          "base_uri": "https://localhost:8080/"
        },
        "id": "Vz2sDPuCyLKB",
        "outputId": "8aba8777-614a-4a6a-e404-dec78382bb1a"
      },
      "source": [
        "MNB_clf = MultinomialNB()\n",
        "MNB_clf.fit(x_input, y_train)\n",
        "MNB_clf.score(x_test_input,y_test)"
      ],
      "execution_count": null,
      "outputs": [
        {
          "output_type": "execute_result",
          "data": {
            "text/plain": [
              "0.6787330316742082"
            ]
          },
          "metadata": {
            "tags": []
          },
          "execution_count": 140
        }
      ]
    },
    {
      "cell_type": "markdown",
      "metadata": {
        "id": "K_LLPbeeTwiw"
      },
      "source": [
        "#Support Vector Machine"
      ]
    },
    {
      "cell_type": "code",
      "metadata": {
        "colab": {
          "base_uri": "https://localhost:8080/"
        },
        "id": "MA-yyZOCyLQD",
        "outputId": "4993da29-9c8a-42d0-e5ae-508a78d8a41b"
      },
      "source": [
        "SVM_clf = svm.SVC()\n",
        "SVM_clf.fit(x_input, y_train)\n",
        "SVM_clf.score(x_test_input,y_test)"
      ],
      "execution_count": null,
      "outputs": [
        {
          "output_type": "execute_result",
          "data": {
            "text/plain": [
              "0.8371040723981901"
            ]
          },
          "metadata": {
            "tags": []
          },
          "execution_count": 141
        }
      ]
    },
    {
      "cell_type": "markdown",
      "metadata": {
        "id": "MYA8uVMjUPfE"
      },
      "source": [
        "#Multilayer Perceptron"
      ]
    },
    {
      "cell_type": "code",
      "metadata": {
        "colab": {
          "base_uri": "https://localhost:8080/"
        },
        "id": "DgM4mcS5y7MS",
        "outputId": "bbee1058-11de-42db-b1f7-f9bc2588896d"
      },
      "source": [
        "MLP_clf =  MLPClassifier(alpha=1, max_iter=1000)\n",
        "MLP_clf.fit(x_input, y_train)\n",
        "MLP_clf.score(x_test_input,y_test)"
      ],
      "execution_count": null,
      "outputs": [
        {
          "output_type": "execute_result",
          "data": {
            "text/plain": [
              "0.7782805429864253"
            ]
          },
          "metadata": {
            "tags": []
          },
          "execution_count": 142
        }
      ]
    },
    {
      "cell_type": "markdown",
      "metadata": {
        "id": "SH6ji1FXUHZZ"
      },
      "source": [
        "#Decision Tree Classifier"
      ]
    },
    {
      "cell_type": "code",
      "metadata": {
        "colab": {
          "base_uri": "https://localhost:8080/"
        },
        "id": "i11eE-SuzOZv",
        "outputId": "3308729a-e7f3-45f1-e573-7a6f93bbd249"
      },
      "source": [
        " DTC_clf = DecisionTreeClassifier(max_depth=11)\n",
        " DTC_clf.fit(x_input, y_train)\n",
        " DTC_clf.score(x_test_input,y_test)"
      ],
      "execution_count": null,
      "outputs": [
        {
          "output_type": "execute_result",
          "data": {
            "text/plain": [
              "0.5520361990950227"
            ]
          },
          "metadata": {
            "tags": []
          },
          "execution_count": 143
        }
      ]
    },
    {
      "cell_type": "code",
      "metadata": {
        "id": "o9MWKuinzcio"
      },
      "source": [
        ""
      ],
      "execution_count": null,
      "outputs": []
    },
    {
      "cell_type": "code",
      "metadata": {
        "id": "04s2LSOKUWBc"
      },
      "source": [
        ""
      ],
      "execution_count": null,
      "outputs": []
    },
    {
      "cell_type": "markdown",
      "metadata": {
        "id": "6xk1t9WmSI3b"
      },
      "source": [
        "##KNN Trained on clustered labels vs categories"
      ]
    },
    {
      "cell_type": "code",
      "metadata": {
        "id": "nKWYvLQkx23s",
        "colab": {
          "base_uri": "https://localhost:8080/"
        },
        "outputId": "eb222951-a8ba-4115-ec25-c61a5688cad6"
      },
      "source": [
        "KNN = KNeighborsClassifier(400)\n",
        "KNN.fit(kmeans.labels_.reshape(-1,1), y_train)\n",
        "KNN.score(pred.reshape(-1,1),y_test)"
      ],
      "execution_count": null,
      "outputs": [
        {
          "output_type": "execute_result",
          "data": {
            "text/plain": [
              "0.11841382902349414"
            ]
          },
          "metadata": {
            "tags": []
          },
          "execution_count": 87
        }
      ]
    },
    {
      "cell_type": "markdown",
      "metadata": {
        "id": "krkCvBMaS3dw"
      },
      "source": [
        "##KNN without clustering"
      ]
    },
    {
      "cell_type": "code",
      "metadata": {
        "id": "ojjV42BB2-Pb",
        "colab": {
          "base_uri": "https://localhost:8080/"
        },
        "outputId": "d2c721bb-abee-432d-b901-e551e3133eed"
      },
      "source": [
        "KNN = KNeighborsClassifier(400)\n",
        "KNN.fit(x_train, y_train)\n",
        "KNN.score(x_test,y_test)"
      ],
      "execution_count": null,
      "outputs": [
        {
          "output_type": "stream",
          "text": [
            "0.30146820760427373\n"
          ],
          "name": "stdout"
        }
      ]
    }
  ]
}