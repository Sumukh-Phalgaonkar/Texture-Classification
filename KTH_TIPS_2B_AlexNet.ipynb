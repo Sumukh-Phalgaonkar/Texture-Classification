{
  "nbformat": 4,
  "nbformat_minor": 0,
  "metadata": {
    "colab": {
      "name": "KTH-TIPS-2B_AlexNet.ipynb",
      "provenance": [],
      "collapsed_sections": []
    },
    "kernelspec": {
      "name": "python3",
      "display_name": "Python 3"
    },
    "language_info": {
      "name": "python"
    },
    "accelerator": "GPU"
  },
  "cells": [
    {
      "cell_type": "code",
      "metadata": {
        "colab": {
          "base_uri": "https://localhost:8080/"
        },
        "id": "kU8AvQNduNjW",
        "outputId": "dfbd1299-2153-4c8f-f549-067915660eaf"
      },
      "source": [
        "from google.colab import drive\n",
        "drive.mount('/content/drive')"
      ],
      "execution_count": null,
      "outputs": [
        {
          "output_type": "stream",
          "text": [
            "Mounted at /content/drive\n"
          ],
          "name": "stdout"
        }
      ]
    },
    {
      "cell_type": "markdown",
      "metadata": {
        "id": "fej0fKLrAvYj"
      },
      "source": [
        "#Importing Libraries\n"
      ]
    },
    {
      "cell_type": "code",
      "metadata": {
        "id": "Ratza6akub7g"
      },
      "source": [
        "import numpy as np\n",
        "import pandas as pd\n",
        "import matplotlib.pyplot as plt\n",
        "import cv2 as cv\n",
        "import os\n",
        "import tensorflow as tf\n",
        "from tensorflow import keras\n",
        "\n",
        "%matplotlib inline"
      ],
      "execution_count": null,
      "outputs": []
    },
    {
      "cell_type": "markdown",
      "metadata": {
        "id": "4kFyi1oTA0tS"
      },
      "source": [
        "#Parsing and Reading The Dataset"
      ]
    },
    {
      "cell_type": "code",
      "metadata": {
        "id": "uMaXqdDUu-r1"
      },
      "source": [
        "DataDir = '/content/drive/MyDrive/PS 1/Datasets/KTH-TIPS-2B/KTH-TIPS2-b'\n",
        "Categories = ['aluminium_foil', 'brown_bread', 'corduroy', 'cork', 'cotton', 'cracker', 'lettuce_leaf', 'linen', 'white_bread', 'wood','wool']\n",
        "Samples = ['sample_a','sample_b','sample_c','sample_d']\n",
        "images = []\n",
        "y = np.array([])"
      ],
      "execution_count": null,
      "outputs": []
    },
    {
      "cell_type": "code",
      "metadata": {
        "colab": {
          "base_uri": "https://localhost:8080/"
        },
        "id": "C57_z4hDvVwD",
        "outputId": "e5ea158f-43d4-47ad-c4a2-9bc7a2053952"
      },
      "source": [
        "for category in Categories:\n",
        "  for Sample in Samples:\n",
        "    path = os.path.join(DataDir,category)\n",
        "    path = os.path.join(path,Sample)\n",
        "    class_num = Categories.index(category)\n",
        "    print(path)\n",
        "    for imgname in os.listdir(path):\n",
        "        img = cv.imread(os.path.join(path,imgname))\n",
        "        img = cv.resize(img, (300, 300))\n",
        "        images.append(img)\n",
        "        y=np.append(y,[class_num])\n",
        "      \n",
        "        \n",
        "  \n",
        "x = np.array(images)\n",
        "print(x.shape)"
      ],
      "execution_count": null,
      "outputs": [
        {
          "output_type": "stream",
          "text": [
            "/content/drive/MyDrive/PS 1/Datasets/KTH-TIPS-2B/KTH-TIPS2-b/aluminium_foil/sample_a\n",
            "/content/drive/MyDrive/PS 1/Datasets/KTH-TIPS-2B/KTH-TIPS2-b/aluminium_foil/sample_b\n",
            "/content/drive/MyDrive/PS 1/Datasets/KTH-TIPS-2B/KTH-TIPS2-b/aluminium_foil/sample_c\n",
            "/content/drive/MyDrive/PS 1/Datasets/KTH-TIPS-2B/KTH-TIPS2-b/aluminium_foil/sample_d\n",
            "/content/drive/MyDrive/PS 1/Datasets/KTH-TIPS-2B/KTH-TIPS2-b/brown_bread/sample_a\n",
            "/content/drive/MyDrive/PS 1/Datasets/KTH-TIPS-2B/KTH-TIPS2-b/brown_bread/sample_b\n",
            "/content/drive/MyDrive/PS 1/Datasets/KTH-TIPS-2B/KTH-TIPS2-b/brown_bread/sample_c\n",
            "/content/drive/MyDrive/PS 1/Datasets/KTH-TIPS-2B/KTH-TIPS2-b/brown_bread/sample_d\n",
            "/content/drive/MyDrive/PS 1/Datasets/KTH-TIPS-2B/KTH-TIPS2-b/corduroy/sample_a\n",
            "/content/drive/MyDrive/PS 1/Datasets/KTH-TIPS-2B/KTH-TIPS2-b/corduroy/sample_b\n",
            "/content/drive/MyDrive/PS 1/Datasets/KTH-TIPS-2B/KTH-TIPS2-b/corduroy/sample_c\n",
            "/content/drive/MyDrive/PS 1/Datasets/KTH-TIPS-2B/KTH-TIPS2-b/corduroy/sample_d\n",
            "/content/drive/MyDrive/PS 1/Datasets/KTH-TIPS-2B/KTH-TIPS2-b/cork/sample_a\n",
            "/content/drive/MyDrive/PS 1/Datasets/KTH-TIPS-2B/KTH-TIPS2-b/cork/sample_b\n",
            "/content/drive/MyDrive/PS 1/Datasets/KTH-TIPS-2B/KTH-TIPS2-b/cork/sample_c\n",
            "/content/drive/MyDrive/PS 1/Datasets/KTH-TIPS-2B/KTH-TIPS2-b/cork/sample_d\n",
            "/content/drive/MyDrive/PS 1/Datasets/KTH-TIPS-2B/KTH-TIPS2-b/cotton/sample_a\n",
            "/content/drive/MyDrive/PS 1/Datasets/KTH-TIPS-2B/KTH-TIPS2-b/cotton/sample_b\n",
            "/content/drive/MyDrive/PS 1/Datasets/KTH-TIPS-2B/KTH-TIPS2-b/cotton/sample_c\n",
            "/content/drive/MyDrive/PS 1/Datasets/KTH-TIPS-2B/KTH-TIPS2-b/cotton/sample_d\n",
            "/content/drive/MyDrive/PS 1/Datasets/KTH-TIPS-2B/KTH-TIPS2-b/cracker/sample_a\n",
            "/content/drive/MyDrive/PS 1/Datasets/KTH-TIPS-2B/KTH-TIPS2-b/cracker/sample_b\n",
            "/content/drive/MyDrive/PS 1/Datasets/KTH-TIPS-2B/KTH-TIPS2-b/cracker/sample_c\n",
            "/content/drive/MyDrive/PS 1/Datasets/KTH-TIPS-2B/KTH-TIPS2-b/cracker/sample_d\n",
            "/content/drive/MyDrive/PS 1/Datasets/KTH-TIPS-2B/KTH-TIPS2-b/lettuce_leaf/sample_a\n",
            "/content/drive/MyDrive/PS 1/Datasets/KTH-TIPS-2B/KTH-TIPS2-b/lettuce_leaf/sample_b\n",
            "/content/drive/MyDrive/PS 1/Datasets/KTH-TIPS-2B/KTH-TIPS2-b/lettuce_leaf/sample_c\n",
            "/content/drive/MyDrive/PS 1/Datasets/KTH-TIPS-2B/KTH-TIPS2-b/lettuce_leaf/sample_d\n",
            "/content/drive/MyDrive/PS 1/Datasets/KTH-TIPS-2B/KTH-TIPS2-b/linen/sample_a\n",
            "/content/drive/MyDrive/PS 1/Datasets/KTH-TIPS-2B/KTH-TIPS2-b/linen/sample_b\n",
            "/content/drive/MyDrive/PS 1/Datasets/KTH-TIPS-2B/KTH-TIPS2-b/linen/sample_c\n",
            "/content/drive/MyDrive/PS 1/Datasets/KTH-TIPS-2B/KTH-TIPS2-b/linen/sample_d\n",
            "/content/drive/MyDrive/PS 1/Datasets/KTH-TIPS-2B/KTH-TIPS2-b/white_bread/sample_a\n",
            "/content/drive/MyDrive/PS 1/Datasets/KTH-TIPS-2B/KTH-TIPS2-b/white_bread/sample_b\n",
            "/content/drive/MyDrive/PS 1/Datasets/KTH-TIPS-2B/KTH-TIPS2-b/white_bread/sample_c\n",
            "/content/drive/MyDrive/PS 1/Datasets/KTH-TIPS-2B/KTH-TIPS2-b/white_bread/sample_d\n",
            "/content/drive/MyDrive/PS 1/Datasets/KTH-TIPS-2B/KTH-TIPS2-b/wood/sample_a\n",
            "/content/drive/MyDrive/PS 1/Datasets/KTH-TIPS-2B/KTH-TIPS2-b/wood/sample_b\n",
            "/content/drive/MyDrive/PS 1/Datasets/KTH-TIPS-2B/KTH-TIPS2-b/wood/sample_c\n",
            "/content/drive/MyDrive/PS 1/Datasets/KTH-TIPS-2B/KTH-TIPS2-b/wood/sample_d\n",
            "/content/drive/MyDrive/PS 1/Datasets/KTH-TIPS-2B/KTH-TIPS2-b/wool/sample_a\n",
            "/content/drive/MyDrive/PS 1/Datasets/KTH-TIPS-2B/KTH-TIPS2-b/wool/sample_b\n",
            "/content/drive/MyDrive/PS 1/Datasets/KTH-TIPS-2B/KTH-TIPS2-b/wool/sample_c\n",
            "/content/drive/MyDrive/PS 1/Datasets/KTH-TIPS-2B/KTH-TIPS2-b/wool/sample_d\n",
            "(4752, 300, 300, 3)\n"
          ],
          "name": "stdout"
        }
      ]
    },
    {
      "cell_type": "code",
      "metadata": {
        "id": "gV3Uhd6mwsnW"
      },
      "source": [
        "y =np.array([])\n",
        "for category in Categories:\n",
        "  for Sample in Samples:\n",
        "    path = os.path.join(DataDir,category)\n",
        "    path = os.path.join(path,Sample)\n",
        "    class_num = Categories.index(category)\n",
        "    for imgname in os.listdir(path):\n",
        "      y = np.append(y,class_num)\n",
        "      print(class_num)\n",
        "         \n",
        "      \n",
        "      \n"
      ],
      "execution_count": null,
      "outputs": []
    },
    {
      "cell_type": "code",
      "metadata": {
        "colab": {
          "base_uri": "https://localhost:8080/"
        },
        "id": "_CDkZdiz4-KE",
        "outputId": "0592e40b-f4de-4558-b2ee-550355a9c408"
      },
      "source": [
        "y = np.reshape(y,(-1,1))\n",
        "print(y.shape)\n",
        "print(y)"
      ],
      "execution_count": null,
      "outputs": [
        {
          "output_type": "stream",
          "text": [
            "(4752, 1)\n",
            "[[ 0.]\n",
            " [ 0.]\n",
            " [ 0.]\n",
            " ...\n",
            " [10.]\n",
            " [10.]\n",
            " [10.]]\n"
          ],
          "name": "stdout"
        }
      ]
    },
    {
      "cell_type": "markdown",
      "metadata": {
        "id": "JzeqMvDHA69B"
      },
      "source": [
        "#Test - Train Split"
      ]
    },
    {
      "cell_type": "code",
      "metadata": {
        "id": "atrvZhPNw0Hu"
      },
      "source": [
        "from sklearn.model_selection import train_test_split\n",
        "\n",
        "X_train, X_test, y_train, y_test = train_test_split(x, y, test_size = 0.2)\n",
        "X_train, X_val, y_train, y_val = train_test_split(X_train, y_train, test_size = 0.25)"
      ],
      "execution_count": null,
      "outputs": []
    },
    {
      "cell_type": "code",
      "metadata": {
        "colab": {
          "base_uri": "https://localhost:8080/"
        },
        "id": "Oh6-suZJyr67",
        "outputId": "59a9b1b7-069d-4eb6-bd9e-480e64b6232e"
      },
      "source": [
        "print(X_train.shape)\n",
        "print(X_test.shape)\n",
        "print(X_val.shape)"
      ],
      "execution_count": null,
      "outputs": [
        {
          "output_type": "stream",
          "text": [
            "(2850, 300, 300, 3)\n",
            "(951, 300, 300, 3)\n",
            "(951, 300, 300, 3)\n"
          ],
          "name": "stdout"
        }
      ]
    },
    {
      "cell_type": "code",
      "metadata": {
        "colab": {
          "base_uri": "https://localhost:8080/"
        },
        "id": "sPNu4OglytJ4",
        "outputId": "443b6166-3368-4a27-81f7-4f4975740267"
      },
      "source": [
        "print(y_train.shape)\n",
        "print(y_test.shape)\n",
        "print(y_val.shape)"
      ],
      "execution_count": null,
      "outputs": [
        {
          "output_type": "stream",
          "text": [
            "(2850, 1)\n",
            "(951, 1)\n",
            "(951, 1)\n"
          ],
          "name": "stdout"
        }
      ]
    },
    {
      "cell_type": "markdown",
      "metadata": {
        "id": "_SaCvJWcA_3S"
      },
      "source": [
        "#Converting numpy arrays into tensorflow datasets"
      ]
    },
    {
      "cell_type": "code",
      "metadata": {
        "id": "W2eXaIW1ywpB"
      },
      "source": [
        "train_ds = tf.data.Dataset.from_tensor_slices((X_train, y_train))\n",
        "test_ds = tf.data.Dataset.from_tensor_slices((X_test, y_test))\n",
        "val_ds = tf.data.Dataset.from_tensor_slices((X_val, y_val))"
      ],
      "execution_count": null,
      "outputs": []
    },
    {
      "cell_type": "code",
      "metadata": {
        "colab": {
          "base_uri": "https://localhost:8080/"
        },
        "id": "quVwuNVsy3Ed",
        "outputId": "0ba10572-fe14-4f78-d8a9-ab5479ed6889"
      },
      "source": [
        "print(train_ds)\n",
        "print(train_ds)\n",
        "print(val_ds)"
      ],
      "execution_count": null,
      "outputs": [
        {
          "output_type": "stream",
          "text": [
            "<TensorSliceDataset shapes: ((300, 300, 3), (1,)), types: (tf.uint8, tf.float64)>\n",
            "<TensorSliceDataset shapes: ((300, 300, 3), (1,)), types: (tf.uint8, tf.float64)>\n",
            "<TensorSliceDataset shapes: ((300, 300, 3), (1,)), types: (tf.uint8, tf.float64)>\n"
          ],
          "name": "stdout"
        }
      ]
    },
    {
      "cell_type": "code",
      "metadata": {
        "colab": {
          "base_uri": "https://localhost:8080/"
        },
        "id": "hz2GEdMLy7wC",
        "outputId": "3d903a7c-55f9-4d74-c4ab-93d20d54b1e6"
      },
      "source": [
        "train_ds_size = tf.data.experimental.cardinality(train_ds).numpy()\n",
        "test_ds_size = tf.data.experimental.cardinality(test_ds).numpy()\n",
        "val_ds_size = tf.data.experimental.cardinality(val_ds).numpy()\n",
        "\n",
        "print('Train size:', train_ds_size)\n",
        "print('Test size:', test_ds_size)\n",
        "print('Val size:', val_ds_size)"
      ],
      "execution_count": null,
      "outputs": [
        {
          "output_type": "stream",
          "text": [
            "Train size: 2850\n",
            "Test size: 951\n",
            "Val size: 951\n"
          ],
          "name": "stdout"
        }
      ]
    },
    {
      "cell_type": "markdown",
      "metadata": {
        "id": "NqWhVmYeBOGy"
      },
      "source": [
        "#Building AlexNet"
      ]
    },
    {
      "cell_type": "code",
      "metadata": {
        "id": "bEQ0c4XbzAT7"
      },
      "source": [
        "from tensorflow import keras\n",
        "from tensorflow.keras.models import Sequential\n",
        "from tensorflow.keras.layers import Dense, Activation, Dropout, Flatten,\\\n",
        " Conv2D, MaxPooling2D,BatchNormalization"
      ],
      "execution_count": null,
      "outputs": []
    },
    {
      "cell_type": "code",
      "metadata": {
        "id": "ZcUa7n-uzEM2"
      },
      "source": [
        "model = keras.models.Sequential([\n",
        "    keras.layers.Conv2D(filters=96, kernel_size=(11,11), strides=(4,4), activation='relu', input_shape=(227,227,3)),\n",
        "    keras.layers.BatchNormalization(),\n",
        "    keras.layers.MaxPool2D(pool_size=(3,3), strides=(2,2)),\n",
        "    keras.layers.Conv2D(filters=256, kernel_size=(5,5), strides=(1,1), activation='relu', padding=\"same\"),\n",
        "    keras.layers.BatchNormalization(),\n",
        "    keras.layers.MaxPool2D(pool_size=(3,3), strides=(2,2)),\n",
        "    keras.layers.Conv2D(filters=384, kernel_size=(3,3), strides=(1,1), activation='relu', padding=\"same\"),\n",
        "    keras.layers.BatchNormalization(),\n",
        "    keras.layers.Conv2D(filters=384, kernel_size=(3,3), strides=(1,1), activation='relu', padding=\"same\"),\n",
        "    keras.layers.BatchNormalization(),\n",
        "    keras.layers.Conv2D(filters=256, kernel_size=(3,3), strides=(1,1), activation='relu', padding=\"same\"),\n",
        "    keras.layers.BatchNormalization(),\n",
        "    keras.layers.MaxPool2D(pool_size=(3,3), strides=(2,2)),\n",
        "    keras.layers.Flatten(),\n",
        "    keras.layers.Dense(4096, activation='relu'),\n",
        "    keras.layers.Dropout(0.5),\n",
        "    keras.layers.Dense(4096, activation='relu'),\n",
        "    keras.layers.Dropout(0.5),\n",
        "    keras.layers.Dense(11, activation='softmax')\n",
        "])"
      ],
      "execution_count": null,
      "outputs": []
    },
    {
      "cell_type": "code",
      "metadata": {
        "colab": {
          "base_uri": "https://localhost:8080/"
        },
        "id": "nZUn1YI6zIcR",
        "outputId": "2851f133-02a6-4899-a4d9-5d6d08626950"
      },
      "source": [
        "model.compile(\n",
        "    loss='sparse_categorical_crossentropy',\n",
        "    optimizer=tf.optimizers.SGD(lr=0.0001),\n",
        "    metrics=['accuracy']    \n",
        ")"
      ],
      "execution_count": null,
      "outputs": [
        {
          "output_type": "stream",
          "text": [
            "/usr/local/lib/python3.7/dist-packages/tensorflow/python/keras/optimizer_v2/optimizer_v2.py:375: UserWarning: The `lr` argument is deprecated, use `learning_rate` instead.\n",
            "  \"The `lr` argument is deprecated, use `learning_rate` instead.\")\n"
          ],
          "name": "stderr"
        }
      ]
    },
    {
      "cell_type": "code",
      "metadata": {
        "colab": {
          "base_uri": "https://localhost:8080/"
        },
        "id": "Oaa4ctcgzNyV",
        "outputId": "154fa433-9572-448f-c7f6-0731e536a591"
      },
      "source": [
        "model.summary()"
      ],
      "execution_count": null,
      "outputs": [
        {
          "output_type": "stream",
          "text": [
            "Model: \"sequential\"\n",
            "_________________________________________________________________\n",
            "Layer (type)                 Output Shape              Param #   \n",
            "=================================================================\n",
            "conv2d (Conv2D)              (None, 55, 55, 96)        34944     \n",
            "_________________________________________________________________\n",
            "batch_normalization (BatchNo (None, 55, 55, 96)        384       \n",
            "_________________________________________________________________\n",
            "max_pooling2d (MaxPooling2D) (None, 27, 27, 96)        0         \n",
            "_________________________________________________________________\n",
            "conv2d_1 (Conv2D)            (None, 27, 27, 256)       614656    \n",
            "_________________________________________________________________\n",
            "batch_normalization_1 (Batch (None, 27, 27, 256)       1024      \n",
            "_________________________________________________________________\n",
            "max_pooling2d_1 (MaxPooling2 (None, 13, 13, 256)       0         \n",
            "_________________________________________________________________\n",
            "conv2d_2 (Conv2D)            (None, 13, 13, 384)       885120    \n",
            "_________________________________________________________________\n",
            "batch_normalization_2 (Batch (None, 13, 13, 384)       1536      \n",
            "_________________________________________________________________\n",
            "conv2d_3 (Conv2D)            (None, 13, 13, 384)       1327488   \n",
            "_________________________________________________________________\n",
            "batch_normalization_3 (Batch (None, 13, 13, 384)       1536      \n",
            "_________________________________________________________________\n",
            "conv2d_4 (Conv2D)            (None, 13, 13, 256)       884992    \n",
            "_________________________________________________________________\n",
            "batch_normalization_4 (Batch (None, 13, 13, 256)       1024      \n",
            "_________________________________________________________________\n",
            "max_pooling2d_2 (MaxPooling2 (None, 6, 6, 256)         0         \n",
            "_________________________________________________________________\n",
            "flatten (Flatten)            (None, 9216)              0         \n",
            "_________________________________________________________________\n",
            "dense (Dense)                (None, 4096)              37752832  \n",
            "_________________________________________________________________\n",
            "dropout (Dropout)            (None, 4096)              0         \n",
            "_________________________________________________________________\n",
            "dense_1 (Dense)              (None, 4096)              16781312  \n",
            "_________________________________________________________________\n",
            "dropout_1 (Dropout)          (None, 4096)              0         \n",
            "_________________________________________________________________\n",
            "dense_2 (Dense)              (None, 11)                45067     \n",
            "=================================================================\n",
            "Total params: 58,331,915\n",
            "Trainable params: 58,329,163\n",
            "Non-trainable params: 2,752\n",
            "_________________________________________________________________\n"
          ],
          "name": "stdout"
        }
      ]
    },
    {
      "cell_type": "code",
      "metadata": {
        "id": "PVGhMEis5yzV"
      },
      "source": [
        "def process_image(image,label):\n",
        "    image=tf.image.per_image_standardization(image)\n",
        "    image=tf.image.resize(image,(227,227))\n",
        "    \n",
        "    return image,label"
      ],
      "execution_count": null,
      "outputs": []
    },
    {
      "cell_type": "code",
      "metadata": {
        "id": "KJJLq2WUzSYV"
      },
      "source": [
        "train_ds = (train_ds\n",
        "          .map(process_image)\n",
        "          .shuffle(buffer_size=train_ds_size)\n",
        "          .batch(batch_size=30,drop_remainder=True)\n",
        "         )\n",
        "\n",
        "test_ds = (test_ds\n",
        "           .map(process_image)\n",
        "          .shuffle(buffer_size=test_ds_size)\n",
        "          .batch(batch_size=30,drop_remainder=True)\n",
        "         )\n",
        "\n",
        "val_ds = (val_ds\n",
        "          .map(process_image)\n",
        "          .shuffle(buffer_size=val_ds_size)\n",
        "          .batch(batch_size=30,drop_remainder=True)\n",
        "         )"
      ],
      "execution_count": null,
      "outputs": []
    },
    {
      "cell_type": "code",
      "metadata": {
        "colab": {
          "base_uri": "https://localhost:8080/"
        },
        "id": "qdwUKKZIzcsT",
        "outputId": "1566c8a2-db13-4aa8-9e51-48be4cf8b925"
      },
      "source": [
        "print(train_ds)\n",
        "print(test_ds)\n",
        "print(val_ds)"
      ],
      "execution_count": null,
      "outputs": [
        {
          "output_type": "stream",
          "text": [
            "<BatchDataset shapes: ((30, 227, 227, 3), (30, 1)), types: (tf.float32, tf.float64)>\n",
            "<BatchDataset shapes: ((30, 227, 227, 3), (30, 1)), types: (tf.float32, tf.float64)>\n",
            "<BatchDataset shapes: ((30, 227, 227, 3), (30, 1)), types: (tf.float32, tf.float64)>\n"
          ],
          "name": "stdout"
        }
      ]
    },
    {
      "cell_type": "markdown",
      "metadata": {
        "id": "ngrHUQW7BUpr"
      },
      "source": [
        "#Training AlexNet"
      ]
    },
    {
      "cell_type": "code",
      "metadata": {
        "colab": {
          "base_uri": "https://localhost:8080/"
        },
        "id": "5NzYMdlXzhH-",
        "outputId": "0a15e8dd-5a74-4574-ea88-b51712ae8abb"
      },
      "source": [
        "history = model.fit(train_ds,\n",
        "          epochs=50,\n",
        "          validation_data=val_ds,\n",
        "          validation_freq=1)\n"
      ],
      "execution_count": null,
      "outputs": [
        {
          "output_type": "stream",
          "text": [
            "Epoch 1/50\n",
            "95/95 [==============================] - 10s 62ms/step - loss: 0.0224 - accuracy: 0.9947 - val_loss: 0.0599 - val_accuracy: 0.9860\n",
            "Epoch 2/50\n",
            "95/95 [==============================] - 9s 60ms/step - loss: 0.0213 - accuracy: 0.9947 - val_loss: 0.0388 - val_accuracy: 0.9903\n",
            "Epoch 3/50\n",
            "95/95 [==============================] - 9s 61ms/step - loss: 0.0121 - accuracy: 0.9965 - val_loss: 0.0479 - val_accuracy: 0.9892\n",
            "Epoch 4/50\n",
            "95/95 [==============================] - 9s 61ms/step - loss: 0.0095 - accuracy: 0.9979 - val_loss: 0.0445 - val_accuracy: 0.9914\n",
            "Epoch 5/50\n",
            "95/95 [==============================] - 11s 75ms/step - loss: 0.0068 - accuracy: 0.9975 - val_loss: 0.0436 - val_accuracy: 0.9914\n",
            "Epoch 6/50\n",
            "95/95 [==============================] - 9s 62ms/step - loss: 0.0086 - accuracy: 0.9986 - val_loss: 0.0401 - val_accuracy: 0.9925\n",
            "Epoch 7/50\n",
            "95/95 [==============================] - 9s 61ms/step - loss: 0.0089 - accuracy: 0.9979 - val_loss: 0.0406 - val_accuracy: 0.9914\n",
            "Epoch 8/50\n",
            "95/95 [==============================] - 9s 61ms/step - loss: 0.0116 - accuracy: 0.9968 - val_loss: 0.0398 - val_accuracy: 0.9914\n",
            "Epoch 9/50\n",
            "95/95 [==============================] - 9s 61ms/step - loss: 0.0122 - accuracy: 0.9965 - val_loss: 0.0379 - val_accuracy: 0.9925\n",
            "Epoch 10/50\n",
            "95/95 [==============================] - 9s 61ms/step - loss: 0.0082 - accuracy: 0.9989 - val_loss: 0.0276 - val_accuracy: 0.9925\n",
            "Epoch 11/50\n",
            "95/95 [==============================] - 9s 61ms/step - loss: 0.0075 - accuracy: 0.9982 - val_loss: 0.0376 - val_accuracy: 0.9925\n",
            "Epoch 12/50\n",
            "95/95 [==============================] - 9s 61ms/step - loss: 0.0121 - accuracy: 0.9961 - val_loss: 0.0372 - val_accuracy: 0.9903\n",
            "Epoch 13/50\n",
            "95/95 [==============================] - 10s 62ms/step - loss: 0.0135 - accuracy: 0.9972 - val_loss: 0.0354 - val_accuracy: 0.9925\n",
            "Epoch 14/50\n",
            "95/95 [==============================] - 9s 62ms/step - loss: 0.0053 - accuracy: 0.9993 - val_loss: 0.0361 - val_accuracy: 0.9914\n",
            "Epoch 15/50\n",
            "95/95 [==============================] - 9s 62ms/step - loss: 0.0100 - accuracy: 0.9961 - val_loss: 0.0345 - val_accuracy: 0.9935\n",
            "Epoch 16/50\n",
            "95/95 [==============================] - 9s 62ms/step - loss: 0.0049 - accuracy: 0.9996 - val_loss: 0.0339 - val_accuracy: 0.9935\n",
            "Epoch 17/50\n",
            "95/95 [==============================] - 9s 62ms/step - loss: 0.0071 - accuracy: 0.9982 - val_loss: 0.0332 - val_accuracy: 0.9935\n",
            "Epoch 18/50\n",
            "95/95 [==============================] - 9s 62ms/step - loss: 0.0058 - accuracy: 0.9986 - val_loss: 0.0350 - val_accuracy: 0.9925\n",
            "Epoch 19/50\n",
            "95/95 [==============================] - 9s 62ms/step - loss: 0.0079 - accuracy: 0.9958 - val_loss: 0.0342 - val_accuracy: 0.9925\n",
            "Epoch 20/50\n",
            "95/95 [==============================] - 9s 62ms/step - loss: 0.0058 - accuracy: 0.9989 - val_loss: 0.0344 - val_accuracy: 0.9925\n",
            "Epoch 21/50\n",
            "95/95 [==============================] - 9s 62ms/step - loss: 0.0044 - accuracy: 0.9989 - val_loss: 0.0344 - val_accuracy: 0.9925\n",
            "Epoch 22/50\n",
            "95/95 [==============================] - 9s 62ms/step - loss: 0.0049 - accuracy: 0.9989 - val_loss: 0.0342 - val_accuracy: 0.9925\n",
            "Epoch 23/50\n",
            "95/95 [==============================] - 9s 62ms/step - loss: 0.0080 - accuracy: 0.9982 - val_loss: 0.0332 - val_accuracy: 0.9925\n",
            "Epoch 24/50\n",
            "95/95 [==============================] - 9s 61ms/step - loss: 0.0080 - accuracy: 0.9975 - val_loss: 0.0336 - val_accuracy: 0.9925\n",
            "Epoch 25/50\n",
            "95/95 [==============================] - 9s 61ms/step - loss: 0.0067 - accuracy: 0.9982 - val_loss: 0.0316 - val_accuracy: 0.9935\n",
            "Epoch 26/50\n",
            "95/95 [==============================] - 9s 62ms/step - loss: 0.0077 - accuracy: 0.9975 - val_loss: 0.0320 - val_accuracy: 0.9935\n",
            "Epoch 27/50\n",
            "95/95 [==============================] - 9s 61ms/step - loss: 0.0065 - accuracy: 0.9986 - val_loss: 0.0319 - val_accuracy: 0.9946\n",
            "Epoch 28/50\n",
            "95/95 [==============================] - 9s 61ms/step - loss: 0.0048 - accuracy: 0.9989 - val_loss: 0.0318 - val_accuracy: 0.9946\n",
            "Epoch 29/50\n",
            "95/95 [==============================] - 9s 62ms/step - loss: 0.0057 - accuracy: 0.9986 - val_loss: 0.0309 - val_accuracy: 0.9946\n",
            "Epoch 30/50\n",
            "95/95 [==============================] - 9s 62ms/step - loss: 0.0075 - accuracy: 0.9979 - val_loss: 0.0319 - val_accuracy: 0.9925\n",
            "Epoch 31/50\n",
            "95/95 [==============================] - 9s 62ms/step - loss: 0.0068 - accuracy: 0.9975 - val_loss: 0.0314 - val_accuracy: 0.9935\n",
            "Epoch 32/50\n",
            "95/95 [==============================] - 9s 61ms/step - loss: 0.0055 - accuracy: 0.9989 - val_loss: 0.0318 - val_accuracy: 0.9914\n",
            "Epoch 33/50\n",
            "95/95 [==============================] - 9s 61ms/step - loss: 0.0064 - accuracy: 0.9989 - val_loss: 0.0322 - val_accuracy: 0.9935\n",
            "Epoch 34/50\n",
            "95/95 [==============================] - 9s 62ms/step - loss: 0.0057 - accuracy: 0.9989 - val_loss: 0.0318 - val_accuracy: 0.9925\n",
            "Epoch 35/50\n",
            "95/95 [==============================] - 9s 62ms/step - loss: 0.0068 - accuracy: 0.9982 - val_loss: 0.0304 - val_accuracy: 0.9935\n",
            "Epoch 36/50\n",
            "95/95 [==============================] - 9s 62ms/step - loss: 0.0083 - accuracy: 0.9972 - val_loss: 0.0322 - val_accuracy: 0.9925\n",
            "Epoch 37/50\n",
            "95/95 [==============================] - 9s 61ms/step - loss: 0.0043 - accuracy: 0.9986 - val_loss: 0.0316 - val_accuracy: 0.9925\n",
            "Epoch 38/50\n",
            "95/95 [==============================] - 9s 62ms/step - loss: 0.0040 - accuracy: 0.9989 - val_loss: 0.0311 - val_accuracy: 0.9914\n",
            "Epoch 39/50\n",
            "95/95 [==============================] - 9s 62ms/step - loss: 0.0099 - accuracy: 0.9979 - val_loss: 0.0309 - val_accuracy: 0.9935\n",
            "Epoch 40/50\n",
            "95/95 [==============================] - 9s 61ms/step - loss: 0.0072 - accuracy: 0.9979 - val_loss: 0.0300 - val_accuracy: 0.9946\n",
            "Epoch 41/50\n",
            "95/95 [==============================] - 9s 61ms/step - loss: 0.0062 - accuracy: 0.9989 - val_loss: 0.0316 - val_accuracy: 0.9935\n",
            "Epoch 42/50\n",
            "95/95 [==============================] - 9s 61ms/step - loss: 0.0078 - accuracy: 0.9979 - val_loss: 0.0306 - val_accuracy: 0.9935\n",
            "Epoch 43/50\n",
            "95/95 [==============================] - 9s 61ms/step - loss: 0.0072 - accuracy: 0.9979 - val_loss: 0.0315 - val_accuracy: 0.9935\n",
            "Epoch 44/50\n",
            "95/95 [==============================] - 9s 61ms/step - loss: 0.0053 - accuracy: 0.9986 - val_loss: 0.0313 - val_accuracy: 0.9935\n",
            "Epoch 45/50\n",
            "95/95 [==============================] - 9s 61ms/step - loss: 0.0061 - accuracy: 0.9989 - val_loss: 0.0313 - val_accuracy: 0.9914\n",
            "Epoch 46/50\n",
            "95/95 [==============================] - 9s 61ms/step - loss: 0.0045 - accuracy: 0.9993 - val_loss: 0.0319 - val_accuracy: 0.9925\n",
            "Epoch 47/50\n",
            "95/95 [==============================] - 9s 61ms/step - loss: 0.0066 - accuracy: 0.9979 - val_loss: 0.0312 - val_accuracy: 0.9946\n",
            "Epoch 48/50\n",
            "95/95 [==============================] - 9s 60ms/step - loss: 0.0065 - accuracy: 0.9982 - val_loss: 0.0314 - val_accuracy: 0.9925\n",
            "Epoch 49/50\n",
            "95/95 [==============================] - 9s 62ms/step - loss: 0.0081 - accuracy: 0.9979 - val_loss: 0.0281 - val_accuracy: 0.9925\n",
            "Epoch 50/50\n",
            "95/95 [==============================] - 9s 61ms/step - loss: 0.0068 - accuracy: 0.9979 - val_loss: 0.0310 - val_accuracy: 0.9925\n"
          ],
          "name": "stdout"
        }
      ]
    },
    {
      "cell_type": "markdown",
      "metadata": {
        "id": "iQXCWgnYBZcy"
      },
      "source": [
        "#Model Evaluation with learning rate = 0.003"
      ]
    },
    {
      "cell_type": "code",
      "metadata": {
        "colab": {
          "base_uri": "https://localhost:8080/",
          "height": 295
        },
        "id": "ql7O1-ghzirh",
        "outputId": "e453438b-4b0f-4702-ae53-6e763255cbcb"
      },
      "source": [
        "plt.plot(history.history['accuracy'], label='Training accuracy')\n",
        "plt.plot(history.history['val_accuracy'], label = 'Testing accuracy')\n",
        "plt.title('Model Accuracy')\n",
        "plt.xlabel('Epoch')\n",
        "plt.ylabel('Accuracy')\n",
        "plt.legend(loc='lower right')\n",
        "plt.show()\n",
        "%matplotlib inline"
      ],
      "execution_count": null,
      "outputs": [
        {
          "output_type": "display_data",
          "data": {
            "image/png": "[encoded data removed]",
            "text/plain": [
              "<Figure size 432x288 with 1 Axes>"
            ]
          },
          "metadata": {
            "tags": [],
            "needs_background": "light"
          }
        }
      ]
    },
    {
      "cell_type": "code",
      "metadata": {
        "colab": {
          "base_uri": "https://localhost:8080/",
          "height": 295
        },
        "id": "Hfuwr8uYzorK",
        "outputId": "081a62ae-a234-4691-c689-385325da4964"
      },
      "source": [
        "plt.plot(history.history['loss'], label = 'Training Loss')\n",
        "plt.plot(history.history['val_loss'], label = 'Testing Loss')\n",
        "plt.title('Model Loss')\n",
        "plt.ylabel('Loss')\n",
        "plt.xlabel('Epoch')\n",
        "plt.legend(loc='lower right')\n",
        "plt.show()\n",
        "%matplotlib inline"
      ],
      "execution_count": null,
      "outputs": [
        {
          "output_type": "display_data",
          "data": {
            "image/png": "[encoded data removed]",
            "text/plain": [
              "<Figure size 432x288 with 1 Axes>"
            ]
          },
          "metadata": {
            "tags": [],
            "needs_background": "light"
          }
        }
      ]
    },
    {
      "cell_type": "markdown",
      "metadata": {
        "id": "ujL1vKnzBo2v"
      },
      "source": [
        "#Model Evaluation with learning rate = 0.0001"
      ]
    },
    {
      "cell_type": "code",
      "metadata": {
        "colab": {
          "base_uri": "https://localhost:8080/",
          "height": 295
        },
        "id": "llzD-3lk-LH3",
        "outputId": "4a1f9529-5856-4fe3-c993-abef10cedbae"
      },
      "source": [
        "plt.plot(history.history['accuracy'], label='Training accuracy')\n",
        "plt.plot(history.history['val_accuracy'], label = 'Testing accuracy')\n",
        "plt.title('Model Accuracy with learning rate = 0.0001')\n",
        "plt.xlabel('Epoch')\n",
        "plt.ylabel('Accuracy')\n",
        "plt.legend(loc='lower right')\n",
        "plt.show()\n",
        "\n",
        "\n",
        "%matplotlib inline"
      ],
      "execution_count": null,
      "outputs": [
        {
          "output_type": "display_data",
          "data": {
            "image/png": "[encoded data removed]",
            "text/plain": [
              "<Figure size 432x288 with 1 Axes>"
            ]
          },
          "metadata": {
            "tags": [],
            "needs_background": "light"
          }
        }
      ]
    },
    {
      "cell_type": "code",
      "metadata": {
        "colab": {
          "base_uri": "https://localhost:8080/",
          "height": 295
        },
        "id": "SRtWannU-b6J",
        "outputId": "36301186-9bce-4e03-ca29-d81ea04d307b"
      },
      "source": [
        "plt.plot(history.history['loss'], label = 'Training Loss')\n",
        "plt.plot(history.history['val_loss'], label = 'Testing Loss')\n",
        "plt.title('Model Loss with learning rate= 0.0001')\n",
        "plt.ylabel('Loss')\n",
        "plt.xlabel('Epoch')\n",
        "plt.legend(loc='lower right')\n",
        "plt.show()\n",
        "%matplotlib inline"
      ],
      "execution_count": null,
      "outputs": [
        {
          "output_type": "display_data",
          "data": {
            "image/png": "[encoded data removed]",
            "text/plain": [
              "<Figure size 432x288 with 1 Axes>"
            ]
          },
          "metadata": {
            "tags": [],
            "needs_background": "light"
          }
        }
      ]
    },
    {
      "cell_type": "code",
      "metadata": {
        "colab": {
          "base_uri": "https://localhost:8080/"
        },
        "id": "pRHgEWxb0VQ9",
        "outputId": "797aba97-3262-4663-b088-84d5ebc6006b"
      },
      "source": [
        "model.evaluate(test_ds)"
      ],
      "execution_count": null,
      "outputs": [
        {
          "output_type": "stream",
          "text": [
            "31/31 [==============================] - 2s 22ms/step - loss: 0.0319 - accuracy: 0.9903\n"
          ],
          "name": "stdout"
        },
        {
          "output_type": "execute_result",
          "data": {
            "text/plain": [
              "[0.03186298906803131, 0.9903225898742676]"
            ]
          },
          "metadata": {
            "tags": []
          },
          "execution_count": 56
        }
      ]
    },
    {
      "cell_type": "code",
      "metadata": {
        "id": "j5tN0aA-8ERg"
      },
      "source": [
        ""
      ],
      "execution_count": null,
      "outputs": []
    }
  ]
}