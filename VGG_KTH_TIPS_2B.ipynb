{
  "nbformat": 4,
  "nbformat_minor": 0,
  "metadata": {
    "colab": {
      "name": "VGG_KTH-TIPS-2B.ipynb",
      "provenance": []
    },
    "kernelspec": {
      "name": "python3",
      "display_name": "Python 3"
    },
    "language_info": {
      "name": "python"
    },
    "accelerator": "GPU"
  },
  "cells": [
    {
      "cell_type": "code",
      "metadata": {
        "colab": {
          "base_uri": "https://localhost:8080/"
        },
        "id": "_J-Du6kR1hUR",
        "outputId": "5fd33d4d-f81e-4f4d-fae4-dc67789e67a3"
      },
      "source": [
        "from google.colab import drive\n",
        "drive.mount('/content/drive')"
      ],
      "execution_count": null,
      "outputs": [
        {
          "output_type": "stream",
          "text": [
            "Mounted at /content/drive\n"
          ],
          "name": "stdout"
        }
      ]
    },
    {
      "cell_type": "code",
      "metadata": {
        "id": "l1jsgnWBCS76"
      },
      "source": [
        "import numpy as np\n",
        "import pandas as pd\n",
        "import matplotlib.pyplot as plt\n",
        "import cv2 as cv\n",
        "import os\n",
        "import tensorflow as tf\n",
        "from tensorflow import keras\n",
        "\n",
        "%matplotlib inline"
      ],
      "execution_count": null,
      "outputs": []
    },
    {
      "cell_type": "code",
      "metadata": {
        "id": "pJFyi_kwCmwM"
      },
      "source": [
        "DataDir = '/content/drive/MyDrive/PS 1/Datasets/KTH-TIPS-2B/KTH-TIPS2-b'\n",
        "Categories = ['aluminium_foil', 'brown_bread', 'corduroy', 'cork', 'cotton', 'cracker', 'lettuce_leaf', 'linen', 'white_bread', 'wood','wool']\n",
        "Samples = ['sample_a']\n",
        "images = []\n",
        "y = np.array([])"
      ],
      "execution_count": null,
      "outputs": []
    },
    {
      "cell_type": "code",
      "metadata": {
        "colab": {
          "base_uri": "https://localhost:8080/"
        },
        "id": "WG7l4RjZCsGg",
        "outputId": "de4f3108-00d8-407b-a008-64ffe34b1721"
      },
      "source": [
        "for category in Categories:\n",
        "  for Sample in Samples:\n",
        "    path = os.path.join(DataDir,category)\n",
        "    path = os.path.join(path,Sample)\n",
        "    class_num = Categories.index(category)\n",
        "    print(path)\n",
        "    for imgname in os.listdir(path):\n",
        "        img = cv.imread(os.path.join(path,imgname))\n",
        "        img = cv.resize(img, (300, 300))\n",
        "        images.append(img)\n",
        "        y=np.append(y,[class_num])\n",
        "      \n",
        "        \n",
        "  \n",
        "x = np.array(images)\n",
        "print(x.shape)"
      ],
      "execution_count": null,
      "outputs": [
        {
          "output_type": "stream",
          "text": [
            "/content/drive/MyDrive/PS 1/Datasets/KTH-TIPS-2B/KTH-TIPS2-b/aluminium_foil/sample_a\n",
            "/content/drive/MyDrive/PS 1/Datasets/KTH-TIPS-2B/KTH-TIPS2-b/brown_bread/sample_a\n",
            "/content/drive/MyDrive/PS 1/Datasets/KTH-TIPS-2B/KTH-TIPS2-b/corduroy/sample_a\n",
            "/content/drive/MyDrive/PS 1/Datasets/KTH-TIPS-2B/KTH-TIPS2-b/cork/sample_a\n",
            "/content/drive/MyDrive/PS 1/Datasets/KTH-TIPS-2B/KTH-TIPS2-b/cotton/sample_a\n",
            "/content/drive/MyDrive/PS 1/Datasets/KTH-TIPS-2B/KTH-TIPS2-b/cracker/sample_a\n",
            "/content/drive/MyDrive/PS 1/Datasets/KTH-TIPS-2B/KTH-TIPS2-b/lettuce_leaf/sample_a\n",
            "/content/drive/MyDrive/PS 1/Datasets/KTH-TIPS-2B/KTH-TIPS2-b/linen/sample_a\n",
            "/content/drive/MyDrive/PS 1/Datasets/KTH-TIPS-2B/KTH-TIPS2-b/white_bread/sample_a\n",
            "/content/drive/MyDrive/PS 1/Datasets/KTH-TIPS-2B/KTH-TIPS2-b/wood/sample_a\n",
            "/content/drive/MyDrive/PS 1/Datasets/KTH-TIPS-2B/KTH-TIPS2-b/wool/sample_a\n",
            "(1188, 300, 300, 3)\n"
          ],
          "name": "stdout"
        }
      ]
    },
    {
      "cell_type": "code",
      "metadata": {
        "colab": {
          "base_uri": "https://localhost:8080/"
        },
        "id": "6otTVgxpCvDC",
        "outputId": "cc7be358-7945-4c5a-9086-bb1680691b24"
      },
      "source": [
        "y = np.reshape(y,(-1,1))\n",
        "print(y.shape)\n",
        "print(y)"
      ],
      "execution_count": null,
      "outputs": [
        {
          "output_type": "stream",
          "text": [
            "(1188, 1)\n",
            "[[ 0.]\n",
            " [ 0.]\n",
            " [ 0.]\n",
            " ...\n",
            " [10.]\n",
            " [10.]\n",
            " [10.]]\n"
          ],
          "name": "stdout"
        }
      ]
    },
    {
      "cell_type": "code",
      "metadata": {
        "id": "voKiahHhDAOA"
      },
      "source": [
        "from sklearn.model_selection import train_test_split\n",
        "\n",
        "X_train, X_test, y_train, y_test = train_test_split(x, y, test_size = 0.2)\n",
        "X_train, X_val, y_train, y_val = train_test_split(X_train, y_train, test_size = 0.25)"
      ],
      "execution_count": null,
      "outputs": []
    },
    {
      "cell_type": "code",
      "metadata": {
        "colab": {
          "base_uri": "https://localhost:8080/"
        },
        "id": "8FvFdqutDDRi",
        "outputId": "b201ba28-c8d2-4459-a477-adf8c42c3e07"
      },
      "source": [
        "print(X_train.shape)\n",
        "print(X_test.shape)\n",
        "print(X_val.shape)"
      ],
      "execution_count": null,
      "outputs": [
        {
          "output_type": "stream",
          "text": [
            "(712, 300, 300, 3)\n",
            "(238, 300, 300, 3)\n",
            "(238, 300, 300, 3)\n"
          ],
          "name": "stdout"
        }
      ]
    },
    {
      "cell_type": "code",
      "metadata": {
        "colab": {
          "base_uri": "https://localhost:8080/"
        },
        "id": "SPSDn4FxDECo",
        "outputId": "bfe91b26-c62b-4006-8efe-b283021b1322"
      },
      "source": [
        "print(y_train.shape)\n",
        "print(y_test.shape)\n",
        "print(y_val.shape)"
      ],
      "execution_count": null,
      "outputs": [
        {
          "output_type": "stream",
          "text": [
            "(712, 1)\n",
            "(238, 1)\n",
            "(238, 1)\n"
          ],
          "name": "stdout"
        }
      ]
    },
    {
      "cell_type": "code",
      "metadata": {
        "id": "NKyZ9u0pDdDO"
      },
      "source": [
        "train_ds = tf.data.Dataset.from_tensor_slices((X_train, y_train))\n",
        "test_ds = tf.data.Dataset.from_tensor_slices((X_test, y_test))\n",
        "val_ds = tf.data.Dataset.from_tensor_slices((X_val, y_val))"
      ],
      "execution_count": null,
      "outputs": []
    },
    {
      "cell_type": "code",
      "metadata": {
        "colab": {
          "base_uri": "https://localhost:8080/"
        },
        "id": "JuIs5CjoDwVW",
        "outputId": "585ea5a5-e9f9-4546-d59a-d5f02af0a897"
      },
      "source": [
        "print(train_ds)\n",
        "print(train_ds)\n",
        "print(val_ds)"
      ],
      "execution_count": null,
      "outputs": [
        {
          "output_type": "stream",
          "text": [
            "<TensorSliceDataset shapes: ((300, 300, 3), (1,)), types: (tf.uint8, tf.float64)>\n",
            "<TensorSliceDataset shapes: ((300, 300, 3), (1,)), types: (tf.uint8, tf.float64)>\n",
            "<TensorSliceDataset shapes: ((300, 300, 3), (1,)), types: (tf.uint8, tf.float64)>\n"
          ],
          "name": "stdout"
        }
      ]
    },
    {
      "cell_type": "code",
      "metadata": {
        "colab": {
          "base_uri": "https://localhost:8080/"
        },
        "id": "3Kn4rXswDwmW",
        "outputId": "e964db10-add1-4ef4-e099-036af03c18ee"
      },
      "source": [
        "train_ds_size = tf.data.experimental.cardinality(train_ds).numpy()\n",
        "test_ds_size = tf.data.experimental.cardinality(test_ds).numpy()\n",
        "val_ds_size = tf.data.experimental.cardinality(val_ds).numpy()\n",
        "\n",
        "print('Train size:', train_ds_size)\n",
        "print('Test size:', test_ds_size)\n",
        "print('Val size:', val_ds_size)"
      ],
      "execution_count": null,
      "outputs": [
        {
          "output_type": "stream",
          "text": [
            "Train size: 712\n",
            "Test size: 238\n",
            "Val size: 238\n"
          ],
          "name": "stdout"
        }
      ]
    },
    {
      "cell_type": "code",
      "metadata": {
        "id": "aKXtkUOVDGN_"
      },
      "source": [
        "from tensorflow import keras\n",
        "from tensorflow.keras.models import Sequential\n",
        "from tensorflow.keras.layers import Dense, Activation, Dropout, Flatten,\\\n",
        " Conv2D, MaxPooling2D,BatchNormalization\n",
        "import keras,os\n",
        "from keras.models import Sequential\n",
        "from keras.layers import Dense, Conv2D, MaxPool2D , Flatten\n",
        "from keras.preprocessing.image import ImageDataGenerator\n",
        "import numpy as np\n"
      ],
      "execution_count": null,
      "outputs": []
    },
    {
      "cell_type": "code",
      "metadata": {
        "id": "YOnN9XHwDStq"
      },
      "source": [
        "model = Sequential()\n",
        "model.add(Conv2D(input_shape=(224,224,3),filters=64,kernel_size=(3,3),padding=\"same\", activation=\"relu\"))\n",
        "model.add(Conv2D(filters=64,kernel_size=(3,3),padding=\"same\", activation=\"relu\"))\n",
        "model.add(MaxPool2D(pool_size=(2,2),strides=(2,2)))\n",
        "model.add(Conv2D(filters=128, kernel_size=(3,3), padding=\"same\", activation=\"relu\"))\n",
        "model.add(Conv2D(filters=128, kernel_size=(3,3), padding=\"same\", activation=\"relu\"))\n",
        "model.add(MaxPool2D(pool_size=(2,2),strides=(2,2)))\n",
        "model.add(Conv2D(filters=256, kernel_size=(3,3), padding=\"same\", activation=\"relu\"))\n",
        "model.add(Conv2D(filters=256, kernel_size=(3,3), padding=\"same\", activation=\"relu\"))\n",
        "model.add(Conv2D(filters=256, kernel_size=(3,3), padding=\"same\", activation=\"relu\"))\n",
        "model.add(MaxPool2D(pool_size=(2,2),strides=(2,2)))\n",
        "model.add(Conv2D(filters=512, kernel_size=(3,3), padding=\"same\", activation=\"relu\"))\n",
        "model.add(Conv2D(filters=512, kernel_size=(3,3), padding=\"same\", activation=\"relu\"))\n",
        "model.add(Conv2D(filters=512, kernel_size=(3,3), padding=\"same\", activation=\"relu\"))\n",
        "model.add(MaxPool2D(pool_size=(2,2),strides=(2,2)))\n",
        "model.add(Conv2D(filters=512, kernel_size=(3,3), padding=\"same\", activation=\"relu\"))\n",
        "model.add(Conv2D(filters=512, kernel_size=(3,3), padding=\"same\", activation=\"relu\"))\n",
        "model.add(Conv2D(filters=512, kernel_size=(3,3), padding=\"same\", activation=\"relu\"))\n",
        "model.add(MaxPool2D(pool_size=(2,2),strides=(2,2))\n",
        "model.add(Flatten())\n",
        "model.add(Dense(units=4096,activation=\"relu\"))\n",
        "model.add(Dense(units=4096,activation=\"relu\"))\n",
        "model.add(Dense(units=11, activation=\"softmax\"))"
      ],
      "execution_count": null,
      "outputs": []
    },
    {
      "cell_type": "code",
      "metadata": {
        "id": "ttsvNtPMJzYc"
      },
      "source": [
        "model = keras.models.Sequential([\n",
        "    keras.layers.Conv2D(input_shape=(224,224,3),filters=64,kernel_size=(3,3),padding=\"same\", activation=\"relu\"),\n",
        "    keras.layers.Conv2D(filters=64,kernel_size=(3,3),padding=\"same\", activation=\"relu\"),\n",
        "    keras.layers.MaxPool2D(pool_size=(2,2),strides=(2,2)),\n",
        "    keras.layers.Conv2D(filters=128, kernel_size=(3,3), padding=\"same\", activation=\"relu\"),\n",
        "    keras.layers.Conv2D(filters=128, kernel_size=(3,3), padding=\"same\", activation=\"relu\"),\n",
        "    keras.layers.MaxPool2D(pool_size=(2,2),strides=(2,2)),\n",
        "    keras.layers.Conv2D(filters=256, kernel_size=(3,3), padding=\"same\", activation=\"relu\"),\n",
        "    keras.layers.Conv2D(filters=256, kernel_size=(3,3), padding=\"same\", activation=\"relu\"),\n",
        "    keras.layers.Conv2D(filters=256, kernel_size=(3,3), padding=\"same\", activation=\"relu\"),\n",
        "    keras.layers.MaxPool2D(pool_size=(2,2),strides=(2,2)),\n",
        "    keras.layers.Conv2D(filters=512, kernel_size=(3,3), padding=\"same\", activation=\"relu\"),\n",
        "    keras.layers.Conv2D(filters=512, kernel_size=(3,3), padding=\"same\", activation=\"relu\"),\n",
        "    keras.layers.Conv2D(filters=512, kernel_size=(3,3), padding=\"same\", activation=\"relu\"),\n",
        "    keras.layers.MaxPool2D(pool_size=(2,2),strides=(2,2)),\n",
        "    keras.layers.Conv2D(filters=512, kernel_size=(3,3), padding=\"same\", activation=\"relu\"),\n",
        "    keras.layers.Conv2D(filters=512, kernel_size=(3,3), padding=\"same\", activation=\"relu\"),\n",
        "    keras.layers.Conv2D(filters=512, kernel_size=(3,3), padding=\"same\", activation=\"relu\"),\n",
        "    keras.layers.MaxPool2D(pool_size=(2,2),strides=(2,2)),\n",
        "    keras.layers.Flatten(),\n",
        "    keras.layers.Dense(4096, activation='relu'),\n",
        "    keras.layers.Dropout(0.5),\n",
        "    keras.layers.Dense(4096, activation='relu'),\n",
        "    keras.layers.Dropout(0.5),\n",
        "    keras.layers.Dense(11, activation='softmax')\n",
        "])"
      ],
      "execution_count": null,
      "outputs": []
    },
    {
      "cell_type": "code",
      "metadata": {
        "colab": {
          "base_uri": "https://localhost:8080/"
        },
        "id": "h56oF-v6D4cG",
        "outputId": "1a21719d-c046-4a8f-d286-30e49db9cff6"
      },
      "source": [
        "model.compile(\n",
        "    loss='sparse_categorical_crossentropy',\n",
        "    optimizer=tf.optimizers.SGD(lr=0.003),\n",
        "    metrics=['accuracy']    \n",
        ")"
      ],
      "execution_count": null,
      "outputs": [
        {
          "output_type": "stream",
          "text": [
            "/usr/local/lib/python3.7/dist-packages/tensorflow/python/keras/optimizer_v2/optimizer_v2.py:375: UserWarning: The `lr` argument is deprecated, use `learning_rate` instead.\n",
            "  \"The `lr` argument is deprecated, use `learning_rate` instead.\")\n"
          ],
          "name": "stderr"
        }
      ]
    },
    {
      "cell_type": "code",
      "metadata": {
        "colab": {
          "base_uri": "https://localhost:8080/"
        },
        "id": "FUo0r-akD_HU",
        "outputId": "2f880f58-3b01-44ac-a802-7aa9240f6dbf"
      },
      "source": [
        "model.summary()"
      ],
      "execution_count": null,
      "outputs": [
        {
          "output_type": "stream",
          "text": [
            "Model: \"sequential\"\n",
            "_________________________________________________________________\n",
            "Layer (type)                 Output Shape              Param #   \n",
            "=================================================================\n",
            "conv2d (Conv2D)              (None, 224, 224, 64)      1792      \n",
            "_________________________________________________________________\n",
            "conv2d_1 (Conv2D)            (None, 224, 224, 64)      36928     \n",
            "_________________________________________________________________\n",
            "max_pooling2d (MaxPooling2D) (None, 112, 112, 64)      0         \n",
            "_________________________________________________________________\n",
            "conv2d_2 (Conv2D)            (None, 112, 112, 128)     73856     \n",
            "_________________________________________________________________\n",
            "conv2d_3 (Conv2D)            (None, 112, 112, 128)     147584    \n",
            "_________________________________________________________________\n",
            "max_pooling2d_1 (MaxPooling2 (None, 56, 56, 128)       0         \n",
            "_________________________________________________________________\n",
            "conv2d_4 (Conv2D)            (None, 56, 56, 256)       295168    \n",
            "_________________________________________________________________\n",
            "conv2d_5 (Conv2D)            (None, 56, 56, 256)       590080    \n",
            "_________________________________________________________________\n",
            "conv2d_6 (Conv2D)            (None, 56, 56, 256)       590080    \n",
            "_________________________________________________________________\n",
            "max_pooling2d_2 (MaxPooling2 (None, 28, 28, 256)       0         \n",
            "_________________________________________________________________\n",
            "conv2d_7 (Conv2D)            (None, 28, 28, 512)       1180160   \n",
            "_________________________________________________________________\n",
            "conv2d_8 (Conv2D)            (None, 28, 28, 512)       2359808   \n",
            "_________________________________________________________________\n",
            "conv2d_9 (Conv2D)            (None, 28, 28, 512)       2359808   \n",
            "_________________________________________________________________\n",
            "max_pooling2d_3 (MaxPooling2 (None, 14, 14, 512)       0         \n",
            "_________________________________________________________________\n",
            "conv2d_10 (Conv2D)           (None, 14, 14, 512)       2359808   \n",
            "_________________________________________________________________\n",
            "conv2d_11 (Conv2D)           (None, 14, 14, 512)       2359808   \n",
            "_________________________________________________________________\n",
            "conv2d_12 (Conv2D)           (None, 14, 14, 512)       2359808   \n",
            "_________________________________________________________________\n",
            "max_pooling2d_4 (MaxPooling2 (None, 7, 7, 512)         0         \n",
            "_________________________________________________________________\n",
            "flatten (Flatten)            (None, 25088)             0         \n",
            "_________________________________________________________________\n",
            "dense (Dense)                (None, 4096)              102764544 \n",
            "_________________________________________________________________\n",
            "dropout (Dropout)            (None, 4096)              0         \n",
            "_________________________________________________________________\n",
            "dense_1 (Dense)              (None, 4096)              16781312  \n",
            "_________________________________________________________________\n",
            "dropout_1 (Dropout)          (None, 4096)              0         \n",
            "_________________________________________________________________\n",
            "dense_2 (Dense)              (None, 11)                45067     \n",
            "=================================================================\n",
            "Total params: 134,305,611\n",
            "Trainable params: 134,305,611\n",
            "Non-trainable params: 0\n",
            "_________________________________________________________________\n"
          ],
          "name": "stdout"
        }
      ]
    },
    {
      "cell_type": "code",
      "metadata": {
        "id": "5cGDCk_DEB6o"
      },
      "source": [
        "def process_image(image,label):\n",
        "    image=tf.image.per_image_standardization(image)\n",
        "    image=tf.image.resize(image,(224,224))\n",
        "    \n",
        "    return image,label"
      ],
      "execution_count": null,
      "outputs": []
    },
    {
      "cell_type": "code",
      "metadata": {
        "id": "_R8s3nODEHq2"
      },
      "source": [
        "train_ds = (train_ds\n",
        "          .map(process_image)\n",
        "          .shuffle(buffer_size=train_ds_size)\n",
        "          .batch(batch_size=30,drop_remainder=True)\n",
        "         )\n",
        "\n",
        "test_ds = (test_ds\n",
        "           .map(process_image)\n",
        "          .shuffle(buffer_size=test_ds_size)\n",
        "          .batch(batch_size=30,drop_remainder=True)\n",
        "         )\n",
        "\n",
        "val_ds = (val_ds\n",
        "          .map(process_image)\n",
        "          .shuffle(buffer_size=val_ds_size)\n",
        "          .batch(batch_size=30,drop_remainder=True)\n",
        "         )"
      ],
      "execution_count": null,
      "outputs": []
    },
    {
      "cell_type": "code",
      "metadata": {
        "colab": {
          "base_uri": "https://localhost:8080/"
        },
        "id": "oqFoG7dUEQhc",
        "outputId": "ed6cb6e7-6fff-49e8-8587-7364967f7479"
      },
      "source": [
        "print(train_ds)\n",
        "print(test_ds)\n",
        "print(val_ds)"
      ],
      "execution_count": null,
      "outputs": [
        {
          "output_type": "stream",
          "text": [
            "<BatchDataset shapes: ((30, 224, 224, 3), (30, 1)), types: (tf.float32, tf.float64)>\n",
            "<BatchDataset shapes: ((30, 224, 224, 3), (30, 1)), types: (tf.float32, tf.float64)>\n",
            "<BatchDataset shapes: ((30, 224, 224, 3), (30, 1)), types: (tf.float32, tf.float64)>\n"
          ],
          "name": "stdout"
        }
      ]
    },
    {
      "cell_type": "code",
      "metadata": {
        "colab": {
          "base_uri": "https://localhost:8080/"
        },
        "id": "PdGzxx4pESrL",
        "outputId": "c8ea0339-e884-42d2-91f1-8fab9f046248"
      },
      "source": [
        "history = model.fit(train_ds,\n",
        "          epochs=200,\n",
        "          validation_data=val_ds,\n",
        "          validation_freq=1)"
      ],
      "execution_count": null,
      "outputs": [
        {
          "output_type": "stream",
          "text": [
            "Epoch 1/200\n",
            "23/23 [==============================] - 80s 916ms/step - loss: 2.3981 - accuracy: 0.0906 - val_loss: 2.3974 - val_accuracy: 0.1714\n",
            "Epoch 2/200\n",
            "23/23 [==============================] - 21s 878ms/step - loss: 2.3978 - accuracy: 0.1087 - val_loss: 2.3972 - val_accuracy: 0.2286\n",
            "Epoch 3/200\n",
            "23/23 [==============================] - 21s 880ms/step - loss: 2.3974 - accuracy: 0.1255 - val_loss: 2.3968 - val_accuracy: 0.2571\n",
            "Epoch 4/200\n",
            "23/23 [==============================] - 21s 885ms/step - loss: 2.3971 - accuracy: 0.1374 - val_loss: 2.3965 - val_accuracy: 0.2143\n",
            "Epoch 5/200\n",
            "23/23 [==============================] - 21s 875ms/step - loss: 2.3962 - accuracy: 0.1370 - val_loss: 2.3964 - val_accuracy: 0.1714\n",
            "Epoch 6/200\n",
            "23/23 [==============================] - 21s 880ms/step - loss: 2.3962 - accuracy: 0.1181 - val_loss: 2.3959 - val_accuracy: 0.1619\n",
            "Epoch 7/200\n",
            "23/23 [==============================] - 21s 883ms/step - loss: 2.3954 - accuracy: 0.1447 - val_loss: 2.3958 - val_accuracy: 0.1286\n",
            "Epoch 8/200\n",
            "23/23 [==============================] - 21s 884ms/step - loss: 2.3950 - accuracy: 0.1491 - val_loss: 2.3953 - val_accuracy: 0.1238\n",
            "Epoch 9/200\n",
            "23/23 [==============================] - 21s 877ms/step - loss: 2.3951 - accuracy: 0.1349 - val_loss: 2.3949 - val_accuracy: 0.1190\n",
            "Epoch 10/200\n",
            "23/23 [==============================] - 21s 877ms/step - loss: 2.3935 - accuracy: 0.2271 - val_loss: 2.3946 - val_accuracy: 0.1048\n",
            "Epoch 11/200\n",
            "23/23 [==============================] - 21s 880ms/step - loss: 2.3942 - accuracy: 0.1488 - val_loss: 2.3941 - val_accuracy: 0.1238\n",
            "Epoch 12/200\n",
            "23/23 [==============================] - 21s 877ms/step - loss: 2.3939 - accuracy: 0.1515 - val_loss: 2.3935 - val_accuracy: 0.1429\n",
            "Epoch 13/200\n",
            "23/23 [==============================] - 21s 876ms/step - loss: 2.3924 - accuracy: 0.1717 - val_loss: 2.3932 - val_accuracy: 0.1905\n",
            "Epoch 14/200\n",
            "23/23 [==============================] - 21s 881ms/step - loss: 2.3931 - accuracy: 0.1916 - val_loss: 2.3923 - val_accuracy: 0.2762\n",
            "Epoch 15/200\n",
            "23/23 [==============================] - 21s 883ms/step - loss: 2.3908 - accuracy: 0.2155 - val_loss: 2.3922 - val_accuracy: 0.2810\n",
            "Epoch 16/200\n",
            "23/23 [==============================] - 21s 885ms/step - loss: 2.3898 - accuracy: 0.2272 - val_loss: 2.3910 - val_accuracy: 0.2952\n",
            "Epoch 17/200\n",
            "23/23 [==============================] - 21s 879ms/step - loss: 2.3897 - accuracy: 0.2432 - val_loss: 2.3907 - val_accuracy: 0.2619\n",
            "Epoch 18/200\n",
            "23/23 [==============================] - 21s 876ms/step - loss: 2.3894 - accuracy: 0.2082 - val_loss: 2.3884 - val_accuracy: 0.3000\n",
            "Epoch 19/200\n",
            "23/23 [==============================] - 21s 879ms/step - loss: 2.3885 - accuracy: 0.2598 - val_loss: 2.3880 - val_accuracy: 0.3000\n",
            "Epoch 20/200\n",
            "23/23 [==============================] - 21s 884ms/step - loss: 2.3868 - accuracy: 0.2830 - val_loss: 2.3878 - val_accuracy: 0.3000\n",
            "Epoch 21/200\n",
            "23/23 [==============================] - 21s 878ms/step - loss: 2.3864 - accuracy: 0.2384 - val_loss: 2.3862 - val_accuracy: 0.3143\n",
            "Epoch 22/200\n",
            "23/23 [==============================] - 21s 876ms/step - loss: 2.3855 - accuracy: 0.2636 - val_loss: 2.3848 - val_accuracy: 0.3000\n",
            "Epoch 23/200\n",
            "23/23 [==============================] - 21s 876ms/step - loss: 2.3833 - accuracy: 0.2632 - val_loss: 2.3830 - val_accuracy: 0.3286\n",
            "Epoch 24/200\n",
            "23/23 [==============================] - 21s 875ms/step - loss: 2.3817 - accuracy: 0.2518 - val_loss: 2.3813 - val_accuracy: 0.3429\n",
            "Epoch 25/200\n",
            "23/23 [==============================] - 21s 879ms/step - loss: 2.3799 - accuracy: 0.2841 - val_loss: 2.3798 - val_accuracy: 0.3286\n",
            "Epoch 26/200\n",
            "23/23 [==============================] - 21s 877ms/step - loss: 2.3789 - accuracy: 0.2699 - val_loss: 2.3766 - val_accuracy: 0.3333\n",
            "Epoch 27/200\n",
            "23/23 [==============================] - 21s 881ms/step - loss: 2.3775 - accuracy: 0.2798 - val_loss: 2.3728 - val_accuracy: 0.3095\n",
            "Epoch 28/200\n",
            "23/23 [==============================] - 21s 877ms/step - loss: 2.3729 - accuracy: 0.2767 - val_loss: 2.3693 - val_accuracy: 0.3333\n",
            "Epoch 29/200\n",
            "23/23 [==============================] - 21s 881ms/step - loss: 2.3673 - accuracy: 0.3361 - val_loss: 2.3636 - val_accuracy: 0.3333\n",
            "Epoch 30/200\n",
            "23/23 [==============================] - 21s 883ms/step - loss: 2.3603 - accuracy: 0.2946 - val_loss: 2.3598 - val_accuracy: 0.2857\n",
            "Epoch 31/200\n",
            "23/23 [==============================] - 21s 885ms/step - loss: 2.3568 - accuracy: 0.3161 - val_loss: 2.3506 - val_accuracy: 0.2381\n",
            "Epoch 32/200\n",
            "23/23 [==============================] - 21s 886ms/step - loss: 2.3478 - accuracy: 0.2646 - val_loss: 2.3347 - val_accuracy: 0.2048\n",
            "Epoch 33/200\n",
            "23/23 [==============================] - 21s 877ms/step - loss: 2.3230 - accuracy: 0.3042 - val_loss: 2.3127 - val_accuracy: 0.1762\n",
            "Epoch 34/200\n",
            "23/23 [==============================] - 21s 881ms/step - loss: 2.2993 - accuracy: 0.2440 - val_loss: 2.2536 - val_accuracy: 0.1619\n",
            "Epoch 35/200\n",
            "23/23 [==============================] - 21s 881ms/step - loss: 2.2333 - accuracy: 0.2065 - val_loss: 2.1485 - val_accuracy: 0.1476\n",
            "Epoch 36/200\n",
            "23/23 [==============================] - 21s 878ms/step - loss: 2.0927 - accuracy: 0.2305 - val_loss: 2.0203 - val_accuracy: 0.2143\n",
            "Epoch 37/200\n",
            "23/23 [==============================] - 21s 879ms/step - loss: 1.9802 - accuracy: 0.2675 - val_loss: 2.0020 - val_accuracy: 0.1238\n",
            "Epoch 38/200\n",
            "23/23 [==============================] - 21s 882ms/step - loss: 1.9402 - accuracy: 0.2597 - val_loss: 1.9070 - val_accuracy: 0.1667\n",
            "Epoch 39/200\n",
            "23/23 [==============================] - 21s 884ms/step - loss: 1.9071 - accuracy: 0.2380 - val_loss: 1.9316 - val_accuracy: 0.2762\n",
            "Epoch 40/200\n",
            "23/23 [==============================] - 21s 886ms/step - loss: 1.8465 - accuracy: 0.2951 - val_loss: 1.8085 - val_accuracy: 0.3000\n",
            "Epoch 41/200\n",
            "23/23 [==============================] - 21s 876ms/step - loss: 1.7853 - accuracy: 0.3564 - val_loss: 1.7327 - val_accuracy: 0.4143\n",
            "Epoch 42/200\n",
            "23/23 [==============================] - 22s 909ms/step - loss: 1.7586 - accuracy: 0.2674 - val_loss: 1.8733 - val_accuracy: 0.2905\n",
            "Epoch 43/200\n",
            "23/23 [==============================] - 21s 882ms/step - loss: 1.8020 - accuracy: 0.3187 - val_loss: 1.7646 - val_accuracy: 0.4381\n",
            "Epoch 44/200\n",
            "23/23 [==============================] - 21s 877ms/step - loss: 1.6927 - accuracy: 0.3661 - val_loss: 1.5738 - val_accuracy: 0.3571\n",
            "Epoch 45/200\n",
            "23/23 [==============================] - 21s 874ms/step - loss: 1.7894 - accuracy: 0.3212 - val_loss: 2.4817 - val_accuracy: 0.1286\n",
            "Epoch 46/200\n",
            "23/23 [==============================] - 21s 879ms/step - loss: 1.8728 - accuracy: 0.3156 - val_loss: 1.5734 - val_accuracy: 0.3714\n",
            "Epoch 47/200\n",
            "23/23 [==============================] - 21s 882ms/step - loss: 1.6648 - accuracy: 0.3855 - val_loss: 1.4762 - val_accuracy: 0.4190\n",
            "Epoch 48/200\n",
            "23/23 [==============================] - 21s 887ms/step - loss: 1.7300 - accuracy: 0.3761 - val_loss: 1.4817 - val_accuracy: 0.4714\n",
            "Epoch 49/200\n",
            "23/23 [==============================] - 21s 877ms/step - loss: 1.6116 - accuracy: 0.3758 - val_loss: 1.3956 - val_accuracy: 0.5381\n",
            "Epoch 50/200\n",
            "23/23 [==============================] - 21s 879ms/step - loss: 1.4828 - accuracy: 0.4249 - val_loss: 1.5516 - val_accuracy: 0.4190\n",
            "Epoch 51/200\n",
            "23/23 [==============================] - 21s 876ms/step - loss: 1.5807 - accuracy: 0.3756 - val_loss: 1.4858 - val_accuracy: 0.4429\n",
            "Epoch 52/200\n",
            "23/23 [==============================] - 21s 880ms/step - loss: 1.4270 - accuracy: 0.4656 - val_loss: 1.2916 - val_accuracy: 0.5429\n",
            "Epoch 53/200\n",
            "23/23 [==============================] - 21s 877ms/step - loss: 1.3731 - accuracy: 0.5036 - val_loss: 1.1809 - val_accuracy: 0.5571\n",
            "Epoch 54/200\n",
            "23/23 [==============================] - 21s 875ms/step - loss: 1.4714 - accuracy: 0.4446 - val_loss: 1.6138 - val_accuracy: 0.3238\n",
            "Epoch 55/200\n",
            "23/23 [==============================] - 22s 907ms/step - loss: 1.3356 - accuracy: 0.5256 - val_loss: 1.0315 - val_accuracy: 0.6714\n",
            "Epoch 56/200\n",
            "23/23 [==============================] - 21s 881ms/step - loss: 1.1603 - accuracy: 0.5359 - val_loss: 0.9587 - val_accuracy: 0.6286\n",
            "Epoch 57/200\n",
            "23/23 [==============================] - 21s 884ms/step - loss: 1.0038 - accuracy: 0.6110 - val_loss: 0.9656 - val_accuracy: 0.6476\n",
            "Epoch 58/200\n",
            "23/23 [==============================] - 21s 879ms/step - loss: 1.1464 - accuracy: 0.5415 - val_loss: 0.8452 - val_accuracy: 0.7429\n",
            "Epoch 59/200\n",
            "23/23 [==============================] - 21s 876ms/step - loss: 0.9267 - accuracy: 0.6558 - val_loss: 0.9662 - val_accuracy: 0.6524\n",
            "Epoch 60/200\n",
            "23/23 [==============================] - 21s 881ms/step - loss: 1.0993 - accuracy: 0.5540 - val_loss: 0.9717 - val_accuracy: 0.6524\n",
            "Epoch 61/200\n",
            "23/23 [==============================] - 21s 879ms/step - loss: 0.9587 - accuracy: 0.6371 - val_loss: 0.7711 - val_accuracy: 0.7762\n",
            "Epoch 62/200\n",
            "23/23 [==============================] - 21s 876ms/step - loss: 0.8704 - accuracy: 0.6732 - val_loss: 0.7128 - val_accuracy: 0.7571\n",
            "Epoch 63/200\n",
            "23/23 [==============================] - 21s 880ms/step - loss: 0.8640 - accuracy: 0.6980 - val_loss: 1.7847 - val_accuracy: 0.3857\n",
            "Epoch 64/200\n",
            "23/23 [==============================] - 21s 883ms/step - loss: 1.0513 - accuracy: 0.6396 - val_loss: 0.9568 - val_accuracy: 0.6571\n",
            "Epoch 65/200\n",
            "23/23 [==============================] - 21s 886ms/step - loss: 0.8000 - accuracy: 0.7135 - val_loss: 1.0982 - val_accuracy: 0.5810\n",
            "Epoch 66/200\n",
            "23/23 [==============================] - 21s 886ms/step - loss: 0.7727 - accuracy: 0.7420 - val_loss: 0.7288 - val_accuracy: 0.7952\n",
            "Epoch 67/200\n",
            "23/23 [==============================] - 21s 885ms/step - loss: 0.9645 - accuracy: 0.6715 - val_loss: 0.5474 - val_accuracy: 0.8381\n",
            "Epoch 68/200\n",
            "23/23 [==============================] - 21s 879ms/step - loss: 0.6778 - accuracy: 0.7533 - val_loss: 0.6983 - val_accuracy: 0.8190\n",
            "Epoch 69/200\n",
            "23/23 [==============================] - 21s 881ms/step - loss: 0.6884 - accuracy: 0.7398 - val_loss: 0.7383 - val_accuracy: 0.7524\n",
            "Epoch 70/200\n",
            "23/23 [==============================] - 22s 908ms/step - loss: 0.6496 - accuracy: 0.7754 - val_loss: 0.6225 - val_accuracy: 0.7667\n",
            "Epoch 71/200\n",
            "23/23 [==============================] - 21s 878ms/step - loss: 0.6152 - accuracy: 0.7920 - val_loss: 0.4611 - val_accuracy: 0.8619\n",
            "Epoch 72/200\n",
            "23/23 [==============================] - 21s 881ms/step - loss: 0.6186 - accuracy: 0.7966 - val_loss: 0.4983 - val_accuracy: 0.8286\n",
            "Epoch 73/200\n",
            "23/23 [==============================] - 21s 879ms/step - loss: 0.4818 - accuracy: 0.8223 - val_loss: 0.6278 - val_accuracy: 0.7762\n",
            "Epoch 74/200\n",
            "23/23 [==============================] - 21s 882ms/step - loss: 0.6007 - accuracy: 0.7621 - val_loss: 0.5417 - val_accuracy: 0.8095\n",
            "Epoch 75/200\n",
            "23/23 [==============================] - 21s 877ms/step - loss: 0.4313 - accuracy: 0.8515 - val_loss: 0.6177 - val_accuracy: 0.7810\n",
            "Epoch 76/200\n",
            "23/23 [==============================] - 21s 880ms/step - loss: 0.7171 - accuracy: 0.7723 - val_loss: 0.5031 - val_accuracy: 0.8333\n",
            "Epoch 77/200\n",
            "23/23 [==============================] - 21s 877ms/step - loss: 0.6146 - accuracy: 0.7776 - val_loss: 0.6618 - val_accuracy: 0.7762\n",
            "Epoch 78/200\n",
            "23/23 [==============================] - 21s 878ms/step - loss: 0.6691 - accuracy: 0.7819 - val_loss: 0.4242 - val_accuracy: 0.8667\n",
            "Epoch 79/200\n",
            "23/23 [==============================] - 21s 874ms/step - loss: 0.7083 - accuracy: 0.7877 - val_loss: 0.4989 - val_accuracy: 0.8333\n",
            "Epoch 80/200\n",
            "23/23 [==============================] - 21s 880ms/step - loss: 0.4842 - accuracy: 0.8244 - val_loss: 0.3987 - val_accuracy: 0.8667\n",
            "Epoch 81/200\n",
            "23/23 [==============================] - 21s 882ms/step - loss: 0.4388 - accuracy: 0.8394 - val_loss: 0.4354 - val_accuracy: 0.8810\n",
            "Epoch 82/200\n",
            "23/23 [==============================] - 21s 880ms/step - loss: 0.4031 - accuracy: 0.8621 - val_loss: 0.4963 - val_accuracy: 0.8571\n",
            "Epoch 83/200\n",
            "23/23 [==============================] - 21s 877ms/step - loss: 0.4506 - accuracy: 0.8671 - val_loss: 0.4560 - val_accuracy: 0.8524\n",
            "Epoch 84/200\n",
            "23/23 [==============================] - 21s 881ms/step - loss: 0.4459 - accuracy: 0.8478 - val_loss: 0.3531 - val_accuracy: 0.9000\n",
            "Epoch 85/200\n",
            "23/23 [==============================] - 21s 876ms/step - loss: 0.9891 - accuracy: 0.6899 - val_loss: 0.4507 - val_accuracy: 0.8667\n",
            "Epoch 86/200\n",
            "23/23 [==============================] - 21s 880ms/step - loss: 0.3743 - accuracy: 0.8675 - val_loss: 0.3754 - val_accuracy: 0.8667\n",
            "Epoch 87/200\n",
            "23/23 [==============================] - 21s 883ms/step - loss: 0.3006 - accuracy: 0.8941 - val_loss: 0.3100 - val_accuracy: 0.9048\n",
            "Epoch 88/200\n",
            "23/23 [==============================] - 21s 885ms/step - loss: 0.4323 - accuracy: 0.8773 - val_loss: 0.3280 - val_accuracy: 0.8857\n",
            "Epoch 89/200\n",
            "23/23 [==============================] - 21s 878ms/step - loss: 0.3001 - accuracy: 0.8973 - val_loss: 0.3405 - val_accuracy: 0.9000\n",
            "Epoch 90/200\n",
            "23/23 [==============================] - 21s 876ms/step - loss: 0.2865 - accuracy: 0.8889 - val_loss: 3.1220 - val_accuracy: 0.4476\n",
            "Epoch 91/200\n",
            "23/23 [==============================] - 21s 881ms/step - loss: 1.9592 - accuracy: 0.5023 - val_loss: 0.6996 - val_accuracy: 0.7714\n",
            "Epoch 92/200\n",
            "23/23 [==============================] - 21s 884ms/step - loss: 0.5510 - accuracy: 0.8096 - val_loss: 0.6854 - val_accuracy: 0.7857\n",
            "Epoch 93/200\n",
            "23/23 [==============================] - 21s 885ms/step - loss: 0.4464 - accuracy: 0.8465 - val_loss: 0.4104 - val_accuracy: 0.8667\n",
            "Epoch 94/200\n",
            "23/23 [==============================] - 21s 885ms/step - loss: 0.3522 - accuracy: 0.8778 - val_loss: 0.3636 - val_accuracy: 0.9000\n",
            "Epoch 95/200\n",
            "23/23 [==============================] - 21s 880ms/step - loss: 0.2001 - accuracy: 0.9434 - val_loss: 0.3768 - val_accuracy: 0.8905\n",
            "Epoch 96/200\n",
            "23/23 [==============================] - 21s 879ms/step - loss: 0.3142 - accuracy: 0.8937 - val_loss: 0.3308 - val_accuracy: 0.8857\n",
            "Epoch 97/200\n",
            "23/23 [==============================] - 21s 877ms/step - loss: 0.2326 - accuracy: 0.9131 - val_loss: 0.3570 - val_accuracy: 0.8905\n",
            "Epoch 98/200\n",
            "23/23 [==============================] - 21s 879ms/step - loss: 0.1972 - accuracy: 0.9290 - val_loss: 0.2935 - val_accuracy: 0.9095\n",
            "Epoch 99/200\n",
            "23/23 [==============================] - 21s 882ms/step - loss: 0.1175 - accuracy: 0.9701 - val_loss: 1.5081 - val_accuracy: 0.5762\n",
            "Epoch 100/200\n",
            "23/23 [==============================] - 21s 881ms/step - loss: 0.5549 - accuracy: 0.8417 - val_loss: 0.3650 - val_accuracy: 0.9000\n",
            "Epoch 101/200\n",
            "23/23 [==============================] - 21s 881ms/step - loss: 0.1919 - accuracy: 0.9506 - val_loss: 0.2253 - val_accuracy: 0.9095\n",
            "Epoch 102/200\n",
            "23/23 [==============================] - 21s 883ms/step - loss: 0.1971 - accuracy: 0.9239 - val_loss: 0.2824 - val_accuracy: 0.9143\n",
            "Epoch 103/200\n",
            "23/23 [==============================] - 21s 882ms/step - loss: 0.1812 - accuracy: 0.9370 - val_loss: 0.3692 - val_accuracy: 0.9000\n",
            "Epoch 104/200\n",
            "23/23 [==============================] - 21s 886ms/step - loss: 0.1849 - accuracy: 0.9303 - val_loss: 0.2571 - val_accuracy: 0.9238\n",
            "Epoch 105/200\n",
            "23/23 [==============================] - 21s 887ms/step - loss: 0.1603 - accuracy: 0.9483 - val_loss: 0.3579 - val_accuracy: 0.9238\n",
            "Epoch 106/200\n",
            "23/23 [==============================] - 21s 886ms/step - loss: 0.1560 - accuracy: 0.9542 - val_loss: 0.3133 - val_accuracy: 0.9190\n",
            "Epoch 107/200\n",
            "23/23 [==============================] - 21s 885ms/step - loss: 0.2474 - accuracy: 0.9346 - val_loss: 1.1538 - val_accuracy: 0.6333\n",
            "Epoch 108/200\n",
            "23/23 [==============================] - 21s 885ms/step - loss: 0.8445 - accuracy: 0.7326 - val_loss: 0.5387 - val_accuracy: 0.8714\n",
            "Epoch 109/200\n",
            "23/23 [==============================] - 21s 886ms/step - loss: 0.2338 - accuracy: 0.9347 - val_loss: 0.4191 - val_accuracy: 0.8429\n",
            "Epoch 110/200\n",
            "23/23 [==============================] - 21s 880ms/step - loss: 0.1836 - accuracy: 0.9309 - val_loss: 0.5609 - val_accuracy: 0.8286\n",
            "Epoch 111/200\n",
            "23/23 [==============================] - 21s 877ms/step - loss: 0.2295 - accuracy: 0.9560 - val_loss: 0.2757 - val_accuracy: 0.9143\n",
            "Epoch 112/200\n",
            "23/23 [==============================] - 21s 880ms/step - loss: 0.1086 - accuracy: 0.9692 - val_loss: 0.3079 - val_accuracy: 0.9095\n",
            "Epoch 113/200\n",
            "23/23 [==============================] - 22s 906ms/step - loss: 0.1139 - accuracy: 0.9595 - val_loss: 0.2541 - val_accuracy: 0.9238\n",
            "Epoch 114/200\n",
            "23/23 [==============================] - 21s 883ms/step - loss: 0.0843 - accuracy: 0.9711 - val_loss: 0.5771 - val_accuracy: 0.8429\n",
            "Epoch 115/200\n",
            "23/23 [==============================] - 21s 878ms/step - loss: 0.2140 - accuracy: 0.9248 - val_loss: 0.3008 - val_accuracy: 0.9238\n",
            "Epoch 116/200\n",
            "23/23 [==============================] - 21s 877ms/step - loss: 0.1162 - accuracy: 0.9700 - val_loss: 0.2532 - val_accuracy: 0.9333\n",
            "Epoch 117/200\n",
            "23/23 [==============================] - 21s 881ms/step - loss: 0.1275 - accuracy: 0.9671 - val_loss: 0.3095 - val_accuracy: 0.9333\n",
            "Epoch 118/200\n",
            "23/23 [==============================] - 21s 885ms/step - loss: 0.0753 - accuracy: 0.9666 - val_loss: 0.2751 - val_accuracy: 0.9190\n",
            "Epoch 119/200\n",
            "23/23 [==============================] - 21s 885ms/step - loss: 0.0780 - accuracy: 0.9726 - val_loss: 3.9294 - val_accuracy: 0.5095\n",
            "Epoch 120/200\n",
            "23/23 [==============================] - 21s 885ms/step - loss: 1.7042 - accuracy: 0.5919 - val_loss: 0.2643 - val_accuracy: 0.9381\n",
            "Epoch 121/200\n",
            "23/23 [==============================] - 21s 878ms/step - loss: 0.1192 - accuracy: 0.9824 - val_loss: 0.3449 - val_accuracy: 0.9190\n",
            "Epoch 122/200\n",
            "23/23 [==============================] - 21s 880ms/step - loss: 0.0636 - accuracy: 0.9810 - val_loss: 0.4600 - val_accuracy: 0.9000\n",
            "Epoch 123/200\n",
            "23/23 [==============================] - 21s 875ms/step - loss: 0.1147 - accuracy: 0.9711 - val_loss: 0.2698 - val_accuracy: 0.9333\n",
            "Epoch 124/200\n",
            "23/23 [==============================] - 21s 877ms/step - loss: 0.1201 - accuracy: 0.9606 - val_loss: 0.2906 - val_accuracy: 0.9238\n",
            "Epoch 125/200\n",
            "23/23 [==============================] - 21s 875ms/step - loss: 0.0590 - accuracy: 0.9757 - val_loss: 0.3464 - val_accuracy: 0.9238\n",
            "Epoch 126/200\n",
            "23/23 [==============================] - 21s 874ms/step - loss: 0.0905 - accuracy: 0.9755 - val_loss: 0.3117 - val_accuracy: 0.9286\n",
            "Epoch 127/200\n",
            "23/23 [==============================] - 21s 881ms/step - loss: 0.0622 - accuracy: 0.9802 - val_loss: 0.3923 - val_accuracy: 0.9333\n",
            "Epoch 128/200\n",
            "23/23 [==============================] - 21s 883ms/step - loss: 0.0480 - accuracy: 0.9799 - val_loss: 0.3524 - val_accuracy: 0.9381\n",
            "Epoch 129/200\n",
            "23/23 [==============================] - 21s 879ms/step - loss: 0.0225 - accuracy: 0.9940 - val_loss: 0.3320 - val_accuracy: 0.9429\n",
            "Epoch 130/200\n",
            "23/23 [==============================] - 21s 881ms/step - loss: 0.0185 - accuracy: 0.9977 - val_loss: 0.3236 - val_accuracy: 0.9381\n",
            "Epoch 131/200\n",
            "23/23 [==============================] - 21s 886ms/step - loss: 0.0303 - accuracy: 0.9898 - val_loss: 0.3788 - val_accuracy: 0.9190\n",
            "Epoch 132/200\n",
            "23/23 [==============================] - 21s 886ms/step - loss: 0.0688 - accuracy: 0.9775 - val_loss: 7.8207 - val_accuracy: 0.2810\n",
            "Epoch 133/200\n",
            "23/23 [==============================] - 21s 885ms/step - loss: 2.6420 - accuracy: 0.4175 - val_loss: 0.6969 - val_accuracy: 0.7333\n",
            "Epoch 134/200\n",
            "23/23 [==============================] - 21s 880ms/step - loss: 0.5203 - accuracy: 0.7917 - val_loss: 0.5290 - val_accuracy: 0.8333\n",
            "Epoch 135/200\n",
            "23/23 [==============================] - 21s 881ms/step - loss: 0.2344 - accuracy: 0.9203 - val_loss: 0.4010 - val_accuracy: 0.9143\n",
            "Epoch 136/200\n",
            "23/23 [==============================] - 21s 885ms/step - loss: 0.0902 - accuracy: 0.9632 - val_loss: 0.2697 - val_accuracy: 0.9333\n",
            "Epoch 137/200\n",
            "23/23 [==============================] - 21s 880ms/step - loss: 0.0818 - accuracy: 0.9740 - val_loss: 0.4236 - val_accuracy: 0.9286\n",
            "Epoch 138/200\n",
            "23/23 [==============================] - 21s 881ms/step - loss: 0.4730 - accuracy: 0.9009 - val_loss: 0.2895 - val_accuracy: 0.9190\n",
            "Epoch 139/200\n",
            "23/23 [==============================] - 21s 878ms/step - loss: 0.0640 - accuracy: 0.9926 - val_loss: 0.1918 - val_accuracy: 0.9286\n",
            "Epoch 140/200\n",
            "23/23 [==============================] - 21s 875ms/step - loss: 0.1109 - accuracy: 0.9624 - val_loss: 0.2440 - val_accuracy: 0.9429\n",
            "Epoch 141/200\n",
            "23/23 [==============================] - 21s 881ms/step - loss: 0.0975 - accuracy: 0.9735 - val_loss: 0.3980 - val_accuracy: 0.9143\n",
            "Epoch 142/200\n",
            "23/23 [==============================] - 21s 877ms/step - loss: 0.0675 - accuracy: 0.9732 - val_loss: 0.3062 - val_accuracy: 0.9286\n",
            "Epoch 143/200\n",
            "23/23 [==============================] - 21s 881ms/step - loss: 0.0360 - accuracy: 0.9925 - val_loss: 0.3285 - val_accuracy: 0.9333\n",
            "Epoch 144/200\n",
            "23/23 [==============================] - 21s 881ms/step - loss: 0.0322 - accuracy: 0.9918 - val_loss: 0.3578 - val_accuracy: 0.9476\n",
            "Epoch 145/200\n",
            "23/23 [==============================] - 21s 878ms/step - loss: 0.0531 - accuracy: 0.9830 - val_loss: 0.3323 - val_accuracy: 0.9238\n",
            "Epoch 146/200\n",
            "23/23 [==============================] - 21s 881ms/step - loss: 0.0228 - accuracy: 0.9955 - val_loss: 0.2378 - val_accuracy: 0.9381\n",
            "Epoch 147/200\n",
            "23/23 [==============================] - 21s 880ms/step - loss: 0.0146 - accuracy: 0.9949 - val_loss: 0.2909 - val_accuracy: 0.9333\n",
            "Epoch 148/200\n",
            "23/23 [==============================] - 21s 884ms/step - loss: 0.0131 - accuracy: 0.9989 - val_loss: 0.3839 - val_accuracy: 0.9333\n",
            "Epoch 149/200\n",
            "23/23 [==============================] - 21s 884ms/step - loss: 0.0100 - accuracy: 0.9997 - val_loss: 0.3381 - val_accuracy: 0.9476\n",
            "Epoch 150/200\n",
            "23/23 [==============================] - 21s 887ms/step - loss: 0.0785 - accuracy: 0.9732 - val_loss: 0.2745 - val_accuracy: 0.9286\n",
            "Epoch 151/200\n",
            "23/23 [==============================] - 21s 879ms/step - loss: 0.0385 - accuracy: 0.9987 - val_loss: 0.2813 - val_accuracy: 0.9333\n",
            "Epoch 152/200\n",
            "23/23 [==============================] - 21s 878ms/step - loss: 0.0182 - accuracy: 0.9982 - val_loss: 0.3063 - val_accuracy: 0.9429\n",
            "Epoch 153/200\n",
            "23/23 [==============================] - 21s 879ms/step - loss: 0.0174 - accuracy: 0.9941 - val_loss: 0.2986 - val_accuracy: 0.9381\n",
            "Epoch 154/200\n",
            "23/23 [==============================] - 21s 881ms/step - loss: 0.0166 - accuracy: 0.9961 - val_loss: 0.2813 - val_accuracy: 0.9476\n",
            "Epoch 155/200\n",
            "23/23 [==============================] - 21s 879ms/step - loss: 0.0229 - accuracy: 0.9917 - val_loss: 0.2742 - val_accuracy: 0.9333\n",
            "Epoch 156/200\n",
            "23/23 [==============================] - 21s 883ms/step - loss: 0.0062 - accuracy: 1.0000 - val_loss: 0.3292 - val_accuracy: 0.9333\n",
            "Epoch 157/200\n",
            "23/23 [==============================] - 21s 886ms/step - loss: 0.0170 - accuracy: 0.9958 - val_loss: 0.3087 - val_accuracy: 0.9333\n",
            "Epoch 158/200\n",
            "23/23 [==============================] - 21s 887ms/step - loss: 0.0050 - accuracy: 1.0000 - val_loss: 0.2498 - val_accuracy: 0.9524\n",
            "Epoch 159/200\n",
            "23/23 [==============================] - 21s 880ms/step - loss: 0.7617 - accuracy: 0.8067 - val_loss: 0.9398 - val_accuracy: 0.7286\n",
            "Epoch 160/200\n",
            "23/23 [==============================] - 21s 878ms/step - loss: 0.5220 - accuracy: 0.8211 - val_loss: 0.2654 - val_accuracy: 0.9333\n",
            "Epoch 161/200\n",
            "23/23 [==============================] - 21s 882ms/step - loss: 0.0697 - accuracy: 0.9903 - val_loss: 0.2902 - val_accuracy: 0.9381\n",
            "Epoch 162/200\n",
            "23/23 [==============================] - 21s 885ms/step - loss: 0.0302 - accuracy: 0.9929 - val_loss: 0.2903 - val_accuracy: 0.9333\n",
            "Epoch 163/200\n",
            "23/23 [==============================] - 21s 888ms/step - loss: 0.0138 - accuracy: 0.9982 - val_loss: 0.3142 - val_accuracy: 0.9429\n",
            "Epoch 164/200\n",
            "23/23 [==============================] - 21s 888ms/step - loss: 0.0161 - accuracy: 0.9951 - val_loss: 0.2969 - val_accuracy: 0.9381\n",
            "Epoch 165/200\n",
            "23/23 [==============================] - 21s 880ms/step - loss: 0.0248 - accuracy: 0.9911 - val_loss: 0.3703 - val_accuracy: 0.9381\n",
            "Epoch 166/200\n",
            "23/23 [==============================] - 21s 884ms/step - loss: 0.0071 - accuracy: 0.9997 - val_loss: 0.3501 - val_accuracy: 0.9333\n",
            "Epoch 167/200\n",
            "23/23 [==============================] - 21s 880ms/step - loss: 0.0061 - accuracy: 0.9991 - val_loss: 0.3743 - val_accuracy: 0.9429\n",
            "Epoch 168/200\n",
            "23/23 [==============================] - 21s 879ms/step - loss: 0.0126 - accuracy: 0.9971 - val_loss: 0.2969 - val_accuracy: 0.9238\n",
            "Epoch 169/200\n",
            "23/23 [==============================] - 21s 877ms/step - loss: 0.2356 - accuracy: 0.9310 - val_loss: 0.2760 - val_accuracy: 0.9286\n",
            "Epoch 170/200\n",
            "23/23 [==============================] - 21s 880ms/step - loss: 0.0164 - accuracy: 0.9986 - val_loss: 0.2815 - val_accuracy: 0.9524\n",
            "Epoch 171/200\n",
            "23/23 [==============================] - 21s 882ms/step - loss: 0.0164 - accuracy: 0.9954 - val_loss: 0.3126 - val_accuracy: 0.9381\n",
            "Epoch 172/200\n",
            "23/23 [==============================] - 21s 882ms/step - loss: 0.0054 - accuracy: 0.9999 - val_loss: 0.3265 - val_accuracy: 0.9095\n",
            "Epoch 173/200\n",
            "23/23 [==============================] - 21s 884ms/step - loss: 0.0130 - accuracy: 0.9993 - val_loss: 0.2736 - val_accuracy: 0.9476\n",
            "Epoch 174/200\n",
            "23/23 [==============================] - 21s 887ms/step - loss: 0.0083 - accuracy: 0.9993 - val_loss: 0.3582 - val_accuracy: 0.9333\n",
            "Epoch 175/200\n",
            "23/23 [==============================] - 21s 886ms/step - loss: 0.0056 - accuracy: 1.0000 - val_loss: 0.3453 - val_accuracy: 0.9429\n",
            "Epoch 176/200\n",
            "23/23 [==============================] - 21s 889ms/step - loss: 0.0972 - accuracy: 0.9777 - val_loss: 0.2867 - val_accuracy: 0.9524\n",
            "Epoch 177/200\n",
            "23/23 [==============================] - 21s 887ms/step - loss: 0.0081 - accuracy: 0.9997 - val_loss: 0.4627 - val_accuracy: 0.9286\n",
            "Epoch 178/200\n",
            "23/23 [==============================] - 21s 887ms/step - loss: 0.0257 - accuracy: 0.9902 - val_loss: 0.3720 - val_accuracy: 0.9381\n",
            "Epoch 179/200\n",
            "23/23 [==============================] - 21s 888ms/step - loss: 0.0161 - accuracy: 0.9933 - val_loss: 0.2537 - val_accuracy: 0.9429\n",
            "Epoch 180/200\n",
            "23/23 [==============================] - 21s 881ms/step - loss: 0.0029 - accuracy: 0.9998 - val_loss: 0.3223 - val_accuracy: 0.9429\n",
            "Epoch 181/200\n",
            "23/23 [==============================] - 21s 878ms/step - loss: 0.0061 - accuracy: 1.0000 - val_loss: 0.3182 - val_accuracy: 0.9429\n",
            "Epoch 182/200\n",
            "23/23 [==============================] - 22s 906ms/step - loss: 0.0053 - accuracy: 1.0000 - val_loss: 0.3873 - val_accuracy: 0.9286\n",
            "Epoch 183/200\n",
            "23/23 [==============================] - 21s 878ms/step - loss: 0.0148 - accuracy: 0.9918 - val_loss: 0.3454 - val_accuracy: 0.9286\n",
            "Epoch 184/200\n",
            "23/23 [==============================] - 21s 879ms/step - loss: 0.0052 - accuracy: 0.9991 - val_loss: 0.2756 - val_accuracy: 0.9571\n",
            "Epoch 185/200\n",
            "23/23 [==============================] - 21s 882ms/step - loss: 0.0078 - accuracy: 0.9985 - val_loss: 0.3762 - val_accuracy: 0.9429\n",
            "Epoch 186/200\n",
            "23/23 [==============================] - 21s 881ms/step - loss: 0.0061 - accuracy: 0.9973 - val_loss: 0.4586 - val_accuracy: 0.9238\n",
            "Epoch 187/200\n",
            "23/23 [==============================] - 21s 883ms/step - loss: 0.0224 - accuracy: 0.9882 - val_loss: 0.3333 - val_accuracy: 0.9429\n",
            "Epoch 188/200\n",
            "23/23 [==============================] - 21s 880ms/step - loss: 0.0249 - accuracy: 0.9929 - val_loss: 0.3807 - val_accuracy: 0.9381\n",
            "Epoch 189/200\n",
            "23/23 [==============================] - 21s 881ms/step - loss: 0.0040 - accuracy: 1.0000 - val_loss: 0.3436 - val_accuracy: 0.9333\n",
            "Epoch 190/200\n",
            "23/23 [==============================] - 21s 881ms/step - loss: 0.0024 - accuracy: 1.0000 - val_loss: 0.3894 - val_accuracy: 0.9333\n",
            "Epoch 191/200\n",
            "23/23 [==============================] - 21s 878ms/step - loss: 0.0060 - accuracy: 0.9973 - val_loss: 0.3970 - val_accuracy: 0.9333\n",
            "Epoch 192/200\n",
            "23/23 [==============================] - 21s 883ms/step - loss: 0.0038 - accuracy: 1.0000 - val_loss: 0.3367 - val_accuracy: 0.9429\n",
            "Epoch 193/200\n",
            "23/23 [==============================] - 21s 880ms/step - loss: 0.0040 - accuracy: 0.9993 - val_loss: 0.3746 - val_accuracy: 0.9476\n",
            "Epoch 194/200\n",
            "23/23 [==============================] - 21s 884ms/step - loss: 0.0200 - accuracy: 0.9955 - val_loss: 0.2729 - val_accuracy: 0.9381\n",
            "Epoch 195/200\n",
            "23/23 [==============================] - 21s 885ms/step - loss: 0.0562 - accuracy: 0.9838 - val_loss: 0.2574 - val_accuracy: 0.9524\n",
            "Epoch 196/200\n",
            "23/23 [==============================] - 21s 887ms/step - loss: 0.0047 - accuracy: 0.9997 - val_loss: 0.4380 - val_accuracy: 0.9286\n",
            "Epoch 197/200\n",
            "23/23 [==============================] - 21s 880ms/step - loss: 0.0076 - accuracy: 0.9977 - val_loss: 0.3602 - val_accuracy: 0.9476\n",
            "Epoch 198/200\n",
            "23/23 [==============================] - 21s 883ms/step - loss: 0.0034 - accuracy: 1.0000 - val_loss: 0.3448 - val_accuracy: 0.9429\n",
            "Epoch 199/200\n",
            "23/23 [==============================] - 21s 885ms/step - loss: 0.0027 - accuracy: 0.9991 - val_loss: 0.3639 - val_accuracy: 0.9524\n",
            "Epoch 200/200\n",
            "23/23 [==============================] - 21s 888ms/step - loss: 0.0015 - accuracy: 1.0000 - val_loss: 0.3663 - val_accuracy: 0.9571\n"
          ],
          "name": "stdout"
        }
      ]
    },
    {
      "cell_type": "code",
      "metadata": {
        "colab": {
          "base_uri": "https://localhost:8080/",
          "height": 295
        },
        "id": "T4ihguEOEXfu",
        "outputId": "bdd0ea6e-16b8-453c-b77f-0bd66f3437be"
      },
      "source": [
        "plt.plot(history.history['accuracy'], label='Training accuracy')\n",
        "plt.plot(history.history['val_accuracy'], label = 'Testing accuracy')\n",
        "plt.title('Model Accuracy')\n",
        "plt.xlabel('Epoch')\n",
        "plt.ylabel('Accuracy')\n",
        "plt.legend(loc='lower right')\n",
        "plt.show()\n",
        "%matplotlib inline"
      ],
      "execution_count": null,
      "outputs": [
        {
          "output_type": "display_data",
          "data": {
            "image/png": "[encoded data removed]",
            "text/plain": [
              "<Figure size 432x288 with 1 Axes>"
            ]
          },
          "metadata": {
            "tags": [],
            "needs_background": "light"
          }
        }
      ]
    },
    {
      "cell_type": "code",
      "metadata": {
        "id": "m7Rjkx7eEb_Z"
      },
      "source": [
        ""
      ],
      "execution_count": null,
      "outputs": []
    }
  ]
}